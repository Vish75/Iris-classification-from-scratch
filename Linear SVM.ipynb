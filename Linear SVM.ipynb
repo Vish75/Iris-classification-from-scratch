{
 "cells": [
  {
   "cell_type": "code",
   "execution_count": 1,
   "id": "fff3bbd0",
   "metadata": {},
   "outputs": [],
   "source": [
    "import numpy as np\n",
    "import pandas as pd\n",
    "import matplotlib.pyplot as plt\n",
    "from sklearn.model_selection import train_test_split\n",
    "from sklearn.preprocessing import StandardScaler\n",
    "from sklearn.decomposition import PCA"
   ]
  },
  {
   "cell_type": "code",
   "execution_count": 3,
   "id": "fc7b71a0",
   "metadata": {},
   "outputs": [],
   "source": [
    "df = pd.read_csv('train.csv')"
   ]
  },
  {
   "cell_type": "code",
   "execution_count": 4,
   "id": "ef627edb",
   "metadata": {},
   "outputs": [
    {
     "data": {
      "text/plain": [
       "(1216, 4096)"
      ]
     },
     "execution_count": 4,
     "metadata": {},
     "output_type": "execute_result"
    }
   ],
   "source": [
    "X = df.iloc[:,1:4097]\n",
    "y = df.iloc[:,4097:4098]\n",
    "X.shape\n"
   ]
  },
  {
   "cell_type": "code",
   "execution_count": 5,
   "id": "697b295e",
   "metadata": {},
   "outputs": [],
   "source": [
    "from sklearn.cluster import KMeans\n",
    "km = KMeans(n_clusters = 20, init = 'random', n_init = 10, max_iter = 300, tol = 1e-04, random_state = 0)\n",
    "y_km = km.fit_predict(X)"
   ]
  },
  {
   "cell_type": "code",
   "execution_count": 7,
   "id": "84e8f592",
   "metadata": {},
   "outputs": [],
   "source": [
    "y_km.shape\n",
    "X.shape\n",
    "X = np.c_[X,y_km]"
   ]
  },
  {
   "cell_type": "code",
   "execution_count": 8,
   "id": "ba458a9f",
   "metadata": {},
   "outputs": [
    {
     "name": "stderr",
     "output_type": "stream",
     "text": [
      "C:\\Python39\\lib\\site-packages\\sklearn\\preprocessing\\_label.py:115: DataConversionWarning: A column-vector y was passed when a 1d array was expected. Please change the shape of y to (n_samples, ), for example using ravel().\n",
      "  y = column_or_1d(y, warn=True)\n"
     ]
    },
    {
     "data": {
      "text/plain": [
       "array([13,  3, 10, ...,  3,  7,  7])"
      ]
     },
     "execution_count": 8,
     "metadata": {},
     "output_type": "execute_result"
    }
   ],
   "source": [
    "from sklearn.preprocessing import LabelEncoder\n",
    "lr = LabelEncoder()\n",
    "y = lr.fit_transform(y)\n",
    "y.shape\n",
    "y"
   ]
  },
  {
   "cell_type": "code",
   "execution_count": 9,
   "id": "27ee351f",
   "metadata": {},
   "outputs": [],
   "source": [
    "X_train, X_test, y_train, y_test = train_test_split(X,y,test_size=0.2,random_state = 22,stratify=y)"
   ]
  },
  {
   "cell_type": "code",
   "execution_count": 15,
   "id": "003f6812",
   "metadata": {},
   "outputs": [],
   "source": [
    "sc = StandardScaler()\n",
    "X_train_new = sc.fit_transform(X_train)\n",
    "X_test_new = sc.transform(X_test)"
   ]
  },
  {
   "cell_type": "code",
   "execution_count": 16,
   "id": "34f8ef1f",
   "metadata": {},
   "outputs": [],
   "source": [
    "from sklearn.svm import SVC\n",
    "from sklearn.model_selection import GridSearchCV\n",
    "param_grid = {'C': [0.1, 1, 10, 100, 1000], \n",
    "              'gamma': [1, 0.1, 0.01, 0.001, 0.0001],\n",
    "              'kernel': ['rbf','linear']} \n",
    "grid = GridSearchCV(SVC(), param_grid, refit = True, verbose = 3)"
   ]
  },
  {
   "cell_type": "code",
   "execution_count": 17,
   "id": "09a03fb5",
   "metadata": {},
   "outputs": [
    {
     "name": "stdout",
     "output_type": "stream",
     "text": [
      "Fitting 5 folds for each of 50 candidates, totalling 250 fits\n",
      "[CV 1/5] END ........C=0.1, gamma=1, kernel=rbf;, score=0.072 total time=   4.8s\n",
      "[CV 2/5] END ........C=0.1, gamma=1, kernel=rbf;, score=0.067 total time=   4.2s\n",
      "[CV 3/5] END ........C=0.1, gamma=1, kernel=rbf;, score=0.072 total time=   4.3s\n",
      "[CV 4/5] END ........C=0.1, gamma=1, kernel=rbf;, score=0.072 total time=   4.2s\n",
      "[CV 5/5] END ........C=0.1, gamma=1, kernel=rbf;, score=0.072 total time=   3.6s\n",
      "[CV 1/5] END .....C=0.1, gamma=1, kernel=linear;, score=0.733 total time=   1.8s\n",
      "[CV 2/5] END .....C=0.1, gamma=1, kernel=linear;, score=0.738 total time=   1.6s\n",
      "[CV 3/5] END .....C=0.1, gamma=1, kernel=linear;, score=0.768 total time=   1.7s\n",
      "[CV 4/5] END .....C=0.1, gamma=1, kernel=linear;, score=0.737 total time=   1.7s\n",
      "[CV 5/5] END .....C=0.1, gamma=1, kernel=linear;, score=0.722 total time=   1.6s\n",
      "[CV 1/5] END ......C=0.1, gamma=0.1, kernel=rbf;, score=0.072 total time=   4.0s\n",
      "[CV 2/5] END ......C=0.1, gamma=0.1, kernel=rbf;, score=0.067 total time=   4.1s\n",
      "[CV 3/5] END ......C=0.1, gamma=0.1, kernel=rbf;, score=0.072 total time=   4.0s\n",
      "[CV 4/5] END ......C=0.1, gamma=0.1, kernel=rbf;, score=0.072 total time=   3.5s\n",
      "[CV 5/5] END ......C=0.1, gamma=0.1, kernel=rbf;, score=0.072 total time=   3.5s\n",
      "[CV 1/5] END ...C=0.1, gamma=0.1, kernel=linear;, score=0.733 total time=   1.6s\n",
      "[CV 2/5] END ...C=0.1, gamma=0.1, kernel=linear;, score=0.738 total time=   1.6s\n",
      "[CV 3/5] END ...C=0.1, gamma=0.1, kernel=linear;, score=0.768 total time=   1.6s\n",
      "[CV 4/5] END ...C=0.1, gamma=0.1, kernel=linear;, score=0.737 total time=   1.6s\n",
      "[CV 5/5] END ...C=0.1, gamma=0.1, kernel=linear;, score=0.722 total time=   1.7s\n",
      "[CV 1/5] END .....C=0.1, gamma=0.01, kernel=rbf;, score=0.072 total time=   4.0s\n",
      "[CV 2/5] END .....C=0.1, gamma=0.01, kernel=rbf;, score=0.067 total time=   3.7s\n",
      "[CV 3/5] END .....C=0.1, gamma=0.01, kernel=rbf;, score=0.072 total time=   3.8s\n",
      "[CV 4/5] END .....C=0.1, gamma=0.01, kernel=rbf;, score=0.072 total time=   4.1s\n",
      "[CV 5/5] END .....C=0.1, gamma=0.01, kernel=rbf;, score=0.072 total time=   4.1s\n",
      "[CV 1/5] END ..C=0.1, gamma=0.01, kernel=linear;, score=0.733 total time=   1.9s\n",
      "[CV 2/5] END ..C=0.1, gamma=0.01, kernel=linear;, score=0.738 total time=   2.1s\n",
      "[CV 3/5] END ..C=0.1, gamma=0.01, kernel=linear;, score=0.768 total time=   2.1s\n",
      "[CV 4/5] END ..C=0.1, gamma=0.01, kernel=linear;, score=0.737 total time=   1.9s\n",
      "[CV 5/5] END ..C=0.1, gamma=0.01, kernel=linear;, score=0.722 total time=   1.8s\n",
      "[CV 1/5] END ....C=0.1, gamma=0.001, kernel=rbf;, score=0.072 total time=   3.9s\n",
      "[CV 2/5] END ....C=0.1, gamma=0.001, kernel=rbf;, score=0.067 total time=   3.6s\n",
      "[CV 3/5] END ....C=0.1, gamma=0.001, kernel=rbf;, score=0.072 total time=   4.0s\n",
      "[CV 4/5] END ....C=0.1, gamma=0.001, kernel=rbf;, score=0.072 total time=   3.6s\n",
      "[CV 5/5] END ....C=0.1, gamma=0.001, kernel=rbf;, score=0.077 total time=   3.4s\n",
      "[CV 1/5] END .C=0.1, gamma=0.001, kernel=linear;, score=0.733 total time=   1.6s\n",
      "[CV 2/5] END .C=0.1, gamma=0.001, kernel=linear;, score=0.738 total time=   1.7s\n",
      "[CV 3/5] END .C=0.1, gamma=0.001, kernel=linear;, score=0.768 total time=   1.7s\n",
      "[CV 4/5] END .C=0.1, gamma=0.001, kernel=linear;, score=0.737 total time=   1.7s\n",
      "[CV 5/5] END .C=0.1, gamma=0.001, kernel=linear;, score=0.722 total time=   1.7s\n",
      "[CV 1/5] END ...C=0.1, gamma=0.0001, kernel=rbf;, score=0.138 total time=   3.7s\n",
      "[CV 2/5] END ...C=0.1, gamma=0.0001, kernel=rbf;, score=0.159 total time=   3.6s\n",
      "[CV 3/5] END ...C=0.1, gamma=0.0001, kernel=rbf;, score=0.160 total time=   3.5s\n",
      "[CV 4/5] END ...C=0.1, gamma=0.0001, kernel=rbf;, score=0.170 total time=   3.5s\n",
      "[CV 5/5] END ...C=0.1, gamma=0.0001, kernel=rbf;, score=0.149 total time=   4.4s\n",
      "[CV 1/5] END C=0.1, gamma=0.0001, kernel=linear;, score=0.733 total time=   1.9s\n",
      "[CV 2/5] END C=0.1, gamma=0.0001, kernel=linear;, score=0.738 total time=   1.8s\n",
      "[CV 3/5] END C=0.1, gamma=0.0001, kernel=linear;, score=0.768 total time=   2.1s\n",
      "[CV 4/5] END C=0.1, gamma=0.0001, kernel=linear;, score=0.737 total time=   2.2s\n",
      "[CV 5/5] END C=0.1, gamma=0.0001, kernel=linear;, score=0.722 total time=   2.1s\n",
      "[CV 1/5] END ..........C=1, gamma=1, kernel=rbf;, score=0.097 total time=   4.0s\n",
      "[CV 2/5] END ..........C=1, gamma=1, kernel=rbf;, score=0.072 total time=   3.6s\n",
      "[CV 3/5] END ..........C=1, gamma=1, kernel=rbf;, score=0.093 total time=   3.8s\n",
      "[CV 4/5] END ..........C=1, gamma=1, kernel=rbf;, score=0.077 total time=   3.7s\n",
      "[CV 5/5] END ..........C=1, gamma=1, kernel=rbf;, score=0.077 total time=   4.0s\n",
      "[CV 1/5] END .......C=1, gamma=1, kernel=linear;, score=0.733 total time=   2.2s\n",
      "[CV 2/5] END .......C=1, gamma=1, kernel=linear;, score=0.738 total time=   2.1s\n",
      "[CV 3/5] END .......C=1, gamma=1, kernel=linear;, score=0.768 total time=   1.8s\n",
      "[CV 4/5] END .......C=1, gamma=1, kernel=linear;, score=0.737 total time=   1.9s\n",
      "[CV 5/5] END .......C=1, gamma=1, kernel=linear;, score=0.722 total time=   1.8s\n",
      "[CV 1/5] END ........C=1, gamma=0.1, kernel=rbf;, score=0.108 total time=   4.0s\n",
      "[CV 2/5] END ........C=1, gamma=0.1, kernel=rbf;, score=0.077 total time=   4.3s\n",
      "[CV 3/5] END ........C=1, gamma=0.1, kernel=rbf;, score=0.093 total time=   3.9s\n",
      "[CV 4/5] END ........C=1, gamma=0.1, kernel=rbf;, score=0.077 total time=   3.6s\n",
      "[CV 5/5] END ........C=1, gamma=0.1, kernel=rbf;, score=0.082 total time=   3.7s\n",
      "[CV 1/5] END .....C=1, gamma=0.1, kernel=linear;, score=0.733 total time=   1.7s\n",
      "[CV 2/5] END .....C=1, gamma=0.1, kernel=linear;, score=0.738 total time=   1.6s\n",
      "[CV 3/5] END .....C=1, gamma=0.1, kernel=linear;, score=0.768 total time=   1.8s\n",
      "[CV 4/5] END .....C=1, gamma=0.1, kernel=linear;, score=0.737 total time=   1.7s\n",
      "[CV 5/5] END .....C=1, gamma=0.1, kernel=linear;, score=0.722 total time=   1.6s\n",
      "[CV 1/5] END .......C=1, gamma=0.01, kernel=rbf;, score=0.123 total time=   3.7s\n",
      "[CV 2/5] END .......C=1, gamma=0.01, kernel=rbf;, score=0.097 total time=   3.6s\n",
      "[CV 3/5] END .......C=1, gamma=0.01, kernel=rbf;, score=0.129 total time=   4.3s\n",
      "[CV 4/5] END .......C=1, gamma=0.01, kernel=rbf;, score=0.098 total time=   3.9s\n",
      "[CV 5/5] END .......C=1, gamma=0.01, kernel=rbf;, score=0.108 total time=   4.8s\n",
      "[CV 1/5] END ....C=1, gamma=0.01, kernel=linear;, score=0.733 total time=   2.0s\n",
      "[CV 2/5] END ....C=1, gamma=0.01, kernel=linear;, score=0.738 total time=   1.8s\n",
      "[CV 3/5] END ....C=1, gamma=0.01, kernel=linear;, score=0.768 total time=   1.7s\n",
      "[CV 4/5] END ....C=1, gamma=0.01, kernel=linear;, score=0.737 total time=   1.9s\n",
      "[CV 5/5] END ....C=1, gamma=0.01, kernel=linear;, score=0.722 total time=   2.3s\n",
      "[CV 1/5] END ......C=1, gamma=0.001, kernel=rbf;, score=0.467 total time=   4.9s\n",
      "[CV 2/5] END ......C=1, gamma=0.001, kernel=rbf;, score=0.523 total time=   4.2s\n",
      "[CV 3/5] END ......C=1, gamma=0.001, kernel=rbf;, score=0.526 total time=   4.5s\n",
      "[CV 4/5] END ......C=1, gamma=0.001, kernel=rbf;, score=0.567 total time=   5.8s\n",
      "[CV 5/5] END ......C=1, gamma=0.001, kernel=rbf;, score=0.448 total time=   4.3s\n",
      "[CV 1/5] END ...C=1, gamma=0.001, kernel=linear;, score=0.733 total time=   1.9s\n",
      "[CV 2/5] END ...C=1, gamma=0.001, kernel=linear;, score=0.738 total time=   1.8s\n",
      "[CV 3/5] END ...C=1, gamma=0.001, kernel=linear;, score=0.768 total time=   2.0s\n",
      "[CV 4/5] END ...C=1, gamma=0.001, kernel=linear;, score=0.737 total time=   1.8s\n",
      "[CV 5/5] END ...C=1, gamma=0.001, kernel=linear;, score=0.722 total time=   1.7s\n",
      "[CV 1/5] END .....C=1, gamma=0.0001, kernel=rbf;, score=0.667 total time=   3.0s\n",
      "[CV 2/5] END .....C=1, gamma=0.0001, kernel=rbf;, score=0.697 total time=   3.1s\n",
      "[CV 3/5] END .....C=1, gamma=0.0001, kernel=rbf;, score=0.716 total time=   3.1s\n",
      "[CV 4/5] END .....C=1, gamma=0.0001, kernel=rbf;, score=0.619 total time=   3.4s\n",
      "[CV 5/5] END .....C=1, gamma=0.0001, kernel=rbf;, score=0.613 total time=   3.3s\n",
      "[CV 1/5] END ..C=1, gamma=0.0001, kernel=linear;, score=0.733 total time=   2.3s\n",
      "[CV 2/5] END ..C=1, gamma=0.0001, kernel=linear;, score=0.738 total time=   2.3s\n",
      "[CV 3/5] END ..C=1, gamma=0.0001, kernel=linear;, score=0.768 total time=   2.2s\n",
      "[CV 4/5] END ..C=1, gamma=0.0001, kernel=linear;, score=0.737 total time=   1.9s\n",
      "[CV 5/5] END ..C=1, gamma=0.0001, kernel=linear;, score=0.722 total time=   1.8s\n",
      "[CV 1/5] END .........C=10, gamma=1, kernel=rbf;, score=0.097 total time=   4.2s\n"
     ]
    },
    {
     "name": "stdout",
     "output_type": "stream",
     "text": [
      "[CV 2/5] END .........C=10, gamma=1, kernel=rbf;, score=0.072 total time=   4.0s\n",
      "[CV 3/5] END .........C=10, gamma=1, kernel=rbf;, score=0.093 total time=   5.4s\n",
      "[CV 4/5] END .........C=10, gamma=1, kernel=rbf;, score=0.077 total time=   4.0s\n",
      "[CV 5/5] END .........C=10, gamma=1, kernel=rbf;, score=0.077 total time=   3.6s\n",
      "[CV 1/5] END ......C=10, gamma=1, kernel=linear;, score=0.733 total time=   1.6s\n",
      "[CV 2/5] END ......C=10, gamma=1, kernel=linear;, score=0.738 total time=   1.6s\n",
      "[CV 3/5] END ......C=10, gamma=1, kernel=linear;, score=0.768 total time=   1.6s\n",
      "[CV 4/5] END ......C=10, gamma=1, kernel=linear;, score=0.737 total time=   1.6s\n",
      "[CV 5/5] END ......C=10, gamma=1, kernel=linear;, score=0.722 total time=   1.5s\n",
      "[CV 1/5] END .......C=10, gamma=0.1, kernel=rbf;, score=0.108 total time=   3.7s\n",
      "[CV 2/5] END .......C=10, gamma=0.1, kernel=rbf;, score=0.077 total time=   3.7s\n",
      "[CV 3/5] END .......C=10, gamma=0.1, kernel=rbf;, score=0.098 total time=   3.4s\n",
      "[CV 4/5] END .......C=10, gamma=0.1, kernel=rbf;, score=0.077 total time=   3.8s\n",
      "[CV 5/5] END .......C=10, gamma=0.1, kernel=rbf;, score=0.088 total time=   3.5s\n",
      "[CV 1/5] END ....C=10, gamma=0.1, kernel=linear;, score=0.733 total time=   1.7s\n",
      "[CV 2/5] END ....C=10, gamma=0.1, kernel=linear;, score=0.738 total time=   1.6s\n",
      "[CV 3/5] END ....C=10, gamma=0.1, kernel=linear;, score=0.768 total time=   1.6s\n",
      "[CV 4/5] END ....C=10, gamma=0.1, kernel=linear;, score=0.737 total time=   1.7s\n",
      "[CV 5/5] END ....C=10, gamma=0.1, kernel=linear;, score=0.722 total time=   2.0s\n",
      "[CV 1/5] END ......C=10, gamma=0.01, kernel=rbf;, score=0.128 total time=   5.0s\n",
      "[CV 2/5] END ......C=10, gamma=0.01, kernel=rbf;, score=0.108 total time=   4.8s\n",
      "[CV 3/5] END ......C=10, gamma=0.01, kernel=rbf;, score=0.129 total time=   3.8s\n",
      "[CV 4/5] END ......C=10, gamma=0.01, kernel=rbf;, score=0.103 total time=   4.4s\n",
      "[CV 5/5] END ......C=10, gamma=0.01, kernel=rbf;, score=0.124 total time=   4.6s\n",
      "[CV 1/5] END ...C=10, gamma=0.01, kernel=linear;, score=0.733 total time=   1.7s\n",
      "[CV 2/5] END ...C=10, gamma=0.01, kernel=linear;, score=0.738 total time=   1.7s\n",
      "[CV 3/5] END ...C=10, gamma=0.01, kernel=linear;, score=0.768 total time=   1.7s\n",
      "[CV 4/5] END ...C=10, gamma=0.01, kernel=linear;, score=0.737 total time=   1.8s\n",
      "[CV 5/5] END ...C=10, gamma=0.01, kernel=linear;, score=0.722 total time=   1.6s\n",
      "[CV 1/5] END .....C=10, gamma=0.001, kernel=rbf;, score=0.503 total time=   3.7s\n",
      "[CV 2/5] END .....C=10, gamma=0.001, kernel=rbf;, score=0.554 total time=   3.4s\n",
      "[CV 3/5] END .....C=10, gamma=0.001, kernel=rbf;, score=0.557 total time=   3.9s\n",
      "[CV 4/5] END .....C=10, gamma=0.001, kernel=rbf;, score=0.588 total time=   3.7s\n",
      "[CV 5/5] END .....C=10, gamma=0.001, kernel=rbf;, score=0.485 total time=   3.5s\n",
      "[CV 1/5] END ..C=10, gamma=0.001, kernel=linear;, score=0.733 total time=   1.8s\n",
      "[CV 2/5] END ..C=10, gamma=0.001, kernel=linear;, score=0.738 total time=   1.7s\n",
      "[CV 3/5] END ..C=10, gamma=0.001, kernel=linear;, score=0.768 total time=   1.8s\n",
      "[CV 4/5] END ..C=10, gamma=0.001, kernel=linear;, score=0.737 total time=   1.9s\n",
      "[CV 5/5] END ..C=10, gamma=0.001, kernel=linear;, score=0.722 total time=   1.7s\n",
      "[CV 1/5] END ....C=10, gamma=0.0001, kernel=rbf;, score=0.738 total time=   2.7s\n",
      "[CV 2/5] END ....C=10, gamma=0.0001, kernel=rbf;, score=0.728 total time=   2.7s\n",
      "[CV 3/5] END ....C=10, gamma=0.0001, kernel=rbf;, score=0.789 total time=   2.8s\n",
      "[CV 4/5] END ....C=10, gamma=0.0001, kernel=rbf;, score=0.722 total time=   2.8s\n",
      "[CV 5/5] END ....C=10, gamma=0.0001, kernel=rbf;, score=0.732 total time=   3.0s\n",
      "[CV 1/5] END .C=10, gamma=0.0001, kernel=linear;, score=0.733 total time=   1.7s\n",
      "[CV 2/5] END .C=10, gamma=0.0001, kernel=linear;, score=0.738 total time=   1.7s\n",
      "[CV 3/5] END .C=10, gamma=0.0001, kernel=linear;, score=0.768 total time=   1.7s\n",
      "[CV 4/5] END .C=10, gamma=0.0001, kernel=linear;, score=0.737 total time=   1.7s\n",
      "[CV 5/5] END .C=10, gamma=0.0001, kernel=linear;, score=0.722 total time=   1.7s\n",
      "[CV 1/5] END ........C=100, gamma=1, kernel=rbf;, score=0.097 total time=   3.7s\n",
      "[CV 2/5] END ........C=100, gamma=1, kernel=rbf;, score=0.072 total time=   4.1s\n",
      "[CV 3/5] END ........C=100, gamma=1, kernel=rbf;, score=0.093 total time=   3.7s\n",
      "[CV 4/5] END ........C=100, gamma=1, kernel=rbf;, score=0.077 total time=   3.7s\n",
      "[CV 5/5] END ........C=100, gamma=1, kernel=rbf;, score=0.077 total time=   3.9s\n",
      "[CV 1/5] END .....C=100, gamma=1, kernel=linear;, score=0.733 total time=   1.9s\n",
      "[CV 2/5] END .....C=100, gamma=1, kernel=linear;, score=0.738 total time=   1.7s\n",
      "[CV 3/5] END .....C=100, gamma=1, kernel=linear;, score=0.768 total time=   1.7s\n",
      "[CV 4/5] END .....C=100, gamma=1, kernel=linear;, score=0.737 total time=   1.6s\n",
      "[CV 5/5] END .....C=100, gamma=1, kernel=linear;, score=0.722 total time=   1.6s\n",
      "[CV 1/5] END ......C=100, gamma=0.1, kernel=rbf;, score=0.108 total time=   3.7s\n",
      "[CV 2/5] END ......C=100, gamma=0.1, kernel=rbf;, score=0.077 total time=   4.0s\n",
      "[CV 3/5] END ......C=100, gamma=0.1, kernel=rbf;, score=0.098 total time=   4.0s\n",
      "[CV 4/5] END ......C=100, gamma=0.1, kernel=rbf;, score=0.077 total time=   3.8s\n",
      "[CV 5/5] END ......C=100, gamma=0.1, kernel=rbf;, score=0.088 total time=   3.7s\n",
      "[CV 1/5] END ...C=100, gamma=0.1, kernel=linear;, score=0.733 total time=   1.7s\n",
      "[CV 2/5] END ...C=100, gamma=0.1, kernel=linear;, score=0.738 total time=   1.6s\n",
      "[CV 3/5] END ...C=100, gamma=0.1, kernel=linear;, score=0.768 total time=   1.7s\n",
      "[CV 4/5] END ...C=100, gamma=0.1, kernel=linear;, score=0.737 total time=   1.7s\n",
      "[CV 5/5] END ...C=100, gamma=0.1, kernel=linear;, score=0.722 total time=   1.6s\n",
      "[CV 1/5] END .....C=100, gamma=0.01, kernel=rbf;, score=0.128 total time=   3.6s\n",
      "[CV 2/5] END .....C=100, gamma=0.01, kernel=rbf;, score=0.108 total time=   3.7s\n",
      "[CV 3/5] END .....C=100, gamma=0.01, kernel=rbf;, score=0.129 total time=   3.6s\n",
      "[CV 4/5] END .....C=100, gamma=0.01, kernel=rbf;, score=0.103 total time=   3.7s\n",
      "[CV 5/5] END .....C=100, gamma=0.01, kernel=rbf;, score=0.124 total time=   3.7s\n",
      "[CV 1/5] END ..C=100, gamma=0.01, kernel=linear;, score=0.733 total time=   1.6s\n",
      "[CV 2/5] END ..C=100, gamma=0.01, kernel=linear;, score=0.738 total time=   1.6s\n",
      "[CV 3/5] END ..C=100, gamma=0.01, kernel=linear;, score=0.768 total time=   1.8s\n",
      "[CV 4/5] END ..C=100, gamma=0.01, kernel=linear;, score=0.737 total time=   1.6s\n",
      "[CV 5/5] END ..C=100, gamma=0.01, kernel=linear;, score=0.722 total time=   1.6s\n",
      "[CV 1/5] END ....C=100, gamma=0.001, kernel=rbf;, score=0.503 total time=   3.5s\n",
      "[CV 2/5] END ....C=100, gamma=0.001, kernel=rbf;, score=0.554 total time=   3.6s\n",
      "[CV 3/5] END ....C=100, gamma=0.001, kernel=rbf;, score=0.557 total time=   3.6s\n",
      "[CV 4/5] END ....C=100, gamma=0.001, kernel=rbf;, score=0.588 total time=   3.6s\n",
      "[CV 5/5] END ....C=100, gamma=0.001, kernel=rbf;, score=0.485 total time=   3.6s\n",
      "[CV 1/5] END .C=100, gamma=0.001, kernel=linear;, score=0.733 total time=   1.7s\n",
      "[CV 2/5] END .C=100, gamma=0.001, kernel=linear;, score=0.738 total time=   1.6s\n",
      "[CV 3/5] END .C=100, gamma=0.001, kernel=linear;, score=0.768 total time=   1.7s\n",
      "[CV 4/5] END .C=100, gamma=0.001, kernel=linear;, score=0.737 total time=   1.7s\n",
      "[CV 5/5] END .C=100, gamma=0.001, kernel=linear;, score=0.722 total time=   1.5s\n",
      "[CV 1/5] END ...C=100, gamma=0.0001, kernel=rbf;, score=0.738 total time=   2.7s\n",
      "[CV 2/5] END ...C=100, gamma=0.0001, kernel=rbf;, score=0.723 total time=   2.6s\n",
      "[CV 3/5] END ...C=100, gamma=0.0001, kernel=rbf;, score=0.784 total time=   2.7s\n",
      "[CV 4/5] END ...C=100, gamma=0.0001, kernel=rbf;, score=0.722 total time=   2.5s\n",
      "[CV 5/5] END ...C=100, gamma=0.0001, kernel=rbf;, score=0.727 total time=   2.6s\n",
      "[CV 1/5] END C=100, gamma=0.0001, kernel=linear;, score=0.733 total time=   1.7s\n",
      "[CV 2/5] END C=100, gamma=0.0001, kernel=linear;, score=0.738 total time=   1.6s\n",
      "[CV 3/5] END C=100, gamma=0.0001, kernel=linear;, score=0.768 total time=   1.7s\n",
      "[CV 4/5] END C=100, gamma=0.0001, kernel=linear;, score=0.737 total time=   1.6s\n",
      "[CV 5/5] END C=100, gamma=0.0001, kernel=linear;, score=0.722 total time=   1.6s\n",
      "[CV 1/5] END .......C=1000, gamma=1, kernel=rbf;, score=0.097 total time=   3.8s\n",
      "[CV 2/5] END .......C=1000, gamma=1, kernel=rbf;, score=0.072 total time=   4.1s\n",
      "[CV 3/5] END .......C=1000, gamma=1, kernel=rbf;, score=0.093 total time=   3.7s\n"
     ]
    },
    {
     "name": "stdout",
     "output_type": "stream",
     "text": [
      "[CV 4/5] END .......C=1000, gamma=1, kernel=rbf;, score=0.077 total time=   3.7s\n",
      "[CV 5/5] END .......C=1000, gamma=1, kernel=rbf;, score=0.077 total time=   3.8s\n",
      "[CV 1/5] END ....C=1000, gamma=1, kernel=linear;, score=0.733 total time=   1.7s\n",
      "[CV 2/5] END ....C=1000, gamma=1, kernel=linear;, score=0.738 total time=   1.9s\n",
      "[CV 3/5] END ....C=1000, gamma=1, kernel=linear;, score=0.768 total time=   1.8s\n",
      "[CV 4/5] END ....C=1000, gamma=1, kernel=linear;, score=0.737 total time=   2.2s\n",
      "[CV 5/5] END ....C=1000, gamma=1, kernel=linear;, score=0.722 total time=   1.9s\n",
      "[CV 1/5] END .....C=1000, gamma=0.1, kernel=rbf;, score=0.108 total time=   3.7s\n",
      "[CV 2/5] END .....C=1000, gamma=0.1, kernel=rbf;, score=0.077 total time=   5.0s\n",
      "[CV 3/5] END .....C=1000, gamma=0.1, kernel=rbf;, score=0.098 total time=   4.3s\n",
      "[CV 4/5] END .....C=1000, gamma=0.1, kernel=rbf;, score=0.077 total time=   3.6s\n",
      "[CV 5/5] END .....C=1000, gamma=0.1, kernel=rbf;, score=0.088 total time=   3.7s\n",
      "[CV 1/5] END ..C=1000, gamma=0.1, kernel=linear;, score=0.733 total time=   1.7s\n",
      "[CV 2/5] END ..C=1000, gamma=0.1, kernel=linear;, score=0.738 total time=   1.7s\n",
      "[CV 3/5] END ..C=1000, gamma=0.1, kernel=linear;, score=0.768 total time=   1.9s\n",
      "[CV 4/5] END ..C=1000, gamma=0.1, kernel=linear;, score=0.737 total time=   1.7s\n",
      "[CV 5/5] END ..C=1000, gamma=0.1, kernel=linear;, score=0.722 total time=   1.6s\n",
      "[CV 1/5] END ....C=1000, gamma=0.01, kernel=rbf;, score=0.128 total time=   3.8s\n",
      "[CV 2/5] END ....C=1000, gamma=0.01, kernel=rbf;, score=0.108 total time=   3.7s\n",
      "[CV 3/5] END ....C=1000, gamma=0.01, kernel=rbf;, score=0.129 total time=   3.6s\n",
      "[CV 4/5] END ....C=1000, gamma=0.01, kernel=rbf;, score=0.103 total time=   3.7s\n",
      "[CV 5/5] END ....C=1000, gamma=0.01, kernel=rbf;, score=0.124 total time=   3.7s\n",
      "[CV 1/5] END .C=1000, gamma=0.01, kernel=linear;, score=0.733 total time=   1.7s\n",
      "[CV 2/5] END .C=1000, gamma=0.01, kernel=linear;, score=0.738 total time=   1.6s\n",
      "[CV 3/5] END .C=1000, gamma=0.01, kernel=linear;, score=0.768 total time=   1.7s\n",
      "[CV 4/5] END .C=1000, gamma=0.01, kernel=linear;, score=0.737 total time=   1.7s\n",
      "[CV 5/5] END .C=1000, gamma=0.01, kernel=linear;, score=0.722 total time=   1.5s\n",
      "[CV 1/5] END ...C=1000, gamma=0.001, kernel=rbf;, score=0.503 total time=   3.7s\n",
      "[CV 2/5] END ...C=1000, gamma=0.001, kernel=rbf;, score=0.554 total time=   3.6s\n",
      "[CV 3/5] END ...C=1000, gamma=0.001, kernel=rbf;, score=0.557 total time=   3.6s\n",
      "[CV 4/5] END ...C=1000, gamma=0.001, kernel=rbf;, score=0.588 total time=   3.5s\n",
      "[CV 5/5] END ...C=1000, gamma=0.001, kernel=rbf;, score=0.485 total time=   3.5s\n",
      "[CV 1/5] END C=1000, gamma=0.001, kernel=linear;, score=0.733 total time=   1.7s\n",
      "[CV 2/5] END C=1000, gamma=0.001, kernel=linear;, score=0.738 total time=   1.6s\n",
      "[CV 3/5] END C=1000, gamma=0.001, kernel=linear;, score=0.768 total time=   1.7s\n",
      "[CV 4/5] END C=1000, gamma=0.001, kernel=linear;, score=0.737 total time=   1.6s\n",
      "[CV 5/5] END C=1000, gamma=0.001, kernel=linear;, score=0.722 total time=   1.6s\n",
      "[CV 1/5] END ..C=1000, gamma=0.0001, kernel=rbf;, score=0.738 total time=   2.6s\n",
      "[CV 2/5] END ..C=1000, gamma=0.0001, kernel=rbf;, score=0.723 total time=   2.7s\n",
      "[CV 3/5] END ..C=1000, gamma=0.0001, kernel=rbf;, score=0.784 total time=   2.7s\n",
      "[CV 4/5] END ..C=1000, gamma=0.0001, kernel=rbf;, score=0.722 total time=   2.5s\n",
      "[CV 5/5] END ..C=1000, gamma=0.0001, kernel=rbf;, score=0.727 total time=   2.6s\n",
      "[CV 1/5] END C=1000, gamma=0.0001, kernel=linear;, score=0.733 total time=   1.7s\n",
      "[CV 2/5] END C=1000, gamma=0.0001, kernel=linear;, score=0.738 total time=   1.6s\n",
      "[CV 3/5] END C=1000, gamma=0.0001, kernel=linear;, score=0.768 total time=   1.6s\n",
      "[CV 4/5] END C=1000, gamma=0.0001, kernel=linear;, score=0.737 total time=   1.6s\n",
      "[CV 5/5] END C=1000, gamma=0.0001, kernel=linear;, score=0.722 total time=   1.5s\n"
     ]
    },
    {
     "data": {
      "text/plain": [
       "GridSearchCV(estimator=SVC(),\n",
       "             param_grid={'C': [0.1, 1, 10, 100, 1000],\n",
       "                         'gamma': [1, 0.1, 0.01, 0.001, 0.0001],\n",
       "                         'kernel': ['rbf', 'linear']},\n",
       "             verbose=3)"
      ]
     },
     "execution_count": 17,
     "metadata": {},
     "output_type": "execute_result"
    }
   ],
   "source": [
    "grid.fit(X_train_new,y_train)"
   ]
  },
  {
   "cell_type": "code",
   "execution_count": 18,
   "id": "b6da173d",
   "metadata": {},
   "outputs": [
    {
     "data": {
      "text/plain": [
       "{'C': 10, 'gamma': 0.0001, 'kernel': 'rbf'}"
      ]
     },
     "execution_count": 18,
     "metadata": {},
     "output_type": "execute_result"
    }
   ],
   "source": [
    "grid.best_params_"
   ]
  },
  {
   "cell_type": "code",
   "execution_count": 32,
   "id": "a32b26ac",
   "metadata": {},
   "outputs": [
    {
     "data": {
      "text/plain": [
       "SVC(kernel='linear')"
      ]
     },
     "execution_count": 32,
     "metadata": {},
     "output_type": "execute_result"
    }
   ],
   "source": [
    "clf = SVC(kernel='linear')\n",
    "clf.fit(X_train_new,y_train)"
   ]
  },
  {
   "cell_type": "code",
   "execution_count": 33,
   "id": "46e06cb0",
   "metadata": {},
   "outputs": [
    {
     "data": {
      "text/plain": [
       "1.0"
      ]
     },
     "execution_count": 33,
     "metadata": {},
     "output_type": "execute_result"
    }
   ],
   "source": [
    "from sklearn.metrics import accuracy_score\n",
    "y_pred_train = clf.predict(X_train_new)\n",
    "accuracy_score(y_train,y_pred_train)\n"
   ]
  },
  {
   "cell_type": "code",
   "execution_count": 34,
   "id": "a9cde41e",
   "metadata": {},
   "outputs": [
    {
     "data": {
      "text/plain": [
       "0.8073770491803278"
      ]
     },
     "execution_count": 34,
     "metadata": {},
     "output_type": "execute_result"
    }
   ],
   "source": [
    "y_pred_test = clf.predict(X_test_new)\n",
    "\n",
    "accuracy_score(y_test,y_pred_test)"
   ]
  },
  {
   "cell_type": "code",
   "execution_count": null,
   "id": "0b516b78",
   "metadata": {},
   "outputs": [],
   "source": []
  }
 ],
 "metadata": {
  "kernelspec": {
   "display_name": "Python 3 (ipykernel)",
   "language": "python",
   "name": "python3"
  },
  "language_info": {
   "codemirror_mode": {
    "name": "ipython",
    "version": 3
   },
   "file_extension": ".py",
   "mimetype": "text/x-python",
   "name": "python",
   "nbconvert_exporter": "python",
   "pygments_lexer": "ipython3",
   "version": "3.9.7"
  }
 },
 "nbformat": 4,
 "nbformat_minor": 5
}
