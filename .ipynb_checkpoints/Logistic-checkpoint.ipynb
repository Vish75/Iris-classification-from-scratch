{
 "cells": [
  {
   "cell_type": "code",
   "execution_count": 1,
   "id": "75510772",
   "metadata": {},
   "outputs": [],
   "source": [
    "import numpy as np\n",
    "import pandas as pd\n",
    "import matplotlib.pyplot as plt\n",
    "from sklearn.model_selection import train_test_split\n",
    "from sklearn.preprocessing import StandardScaler\n",
    "from sklearn.decomposition import PCA"
   ]
  },
  {
   "cell_type": "code",
   "execution_count": 2,
   "id": "6332e70b",
   "metadata": {},
   "outputs": [],
   "source": [
    "df = pd.read_csv('train.csv')"
   ]
  },
  {
   "cell_type": "code",
   "execution_count": 3,
   "id": "98f4d7f3",
   "metadata": {},
   "outputs": [
    {
     "data": {
      "text/plain": [
       "(1216, 4096)"
      ]
     },
     "execution_count": 3,
     "metadata": {},
     "output_type": "execute_result"
    }
   ],
   "source": [
    "X = df.iloc[:,1:4097]\n",
    "y = df.iloc[:,4097:4098]\n",
    "X.shape\n"
   ]
  },
  {
   "cell_type": "code",
   "execution_count": 4,
   "id": "10c10d29",
   "metadata": {},
   "outputs": [],
   "source": [
    "from sklearn.cluster import KMeans\n",
    "km = KMeans(n_clusters = 20, init = 'random', n_init = 10, max_iter = 300, tol = 1e-04, random_state = 0)\n",
    "y_km = km.fit_predict(X)"
   ]
  },
  {
   "cell_type": "code",
   "execution_count": 5,
   "id": "123af0e9",
   "metadata": {},
   "outputs": [],
   "source": [
    "y_km.shape\n",
    "X.shape\n",
    "X = np.c_[X,y_km]"
   ]
  },
  {
   "cell_type": "code",
   "execution_count": 6,
   "id": "62f7392d",
   "metadata": {},
   "outputs": [
    {
     "name": "stderr",
     "output_type": "stream",
     "text": [
      "C:\\Python39\\lib\\site-packages\\sklearn\\preprocessing\\_label.py:115: DataConversionWarning: A column-vector y was passed when a 1d array was expected. Please change the shape of y to (n_samples, ), for example using ravel().\n",
      "  y = column_or_1d(y, warn=True)\n"
     ]
    },
    {
     "data": {
      "text/plain": [
       "array([13,  3, 10, ...,  3,  7,  7])"
      ]
     },
     "execution_count": 6,
     "metadata": {},
     "output_type": "execute_result"
    }
   ],
   "source": [
    "from sklearn.preprocessing import LabelEncoder\n",
    "lr = LabelEncoder()\n",
    "y = lr.fit_transform(y)\n",
    "y.shape\n",
    "y"
   ]
  },
  {
   "cell_type": "code",
   "execution_count": 7,
   "id": "bb574863",
   "metadata": {},
   "outputs": [],
   "source": [
    "X_train, X_test, y_train, y_test = train_test_split(X,y,test_size=0.2,random_state = 22,stratify=y)"
   ]
  },
  {
   "cell_type": "code",
   "execution_count": 8,
   "id": "929e04e9",
   "metadata": {},
   "outputs": [],
   "source": [
    "sc = StandardScaler()\n",
    "X_train_new = sc.fit_transform(X_train)\n",
    "X_test_new = sc.transform(X_test)"
   ]
  },
  {
   "cell_type": "code",
   "execution_count": 130,
   "id": "20a45b73",
   "metadata": {},
   "outputs": [
    {
     "name": "stderr",
     "output_type": "stream",
     "text": [
      "C:\\Python39\\lib\\site-packages\\sklearn\\linear_model\\_sag.py:352: ConvergenceWarning: The max_iter was reached which means the coef_ did not converge\n",
      "  warnings.warn(\n"
     ]
    },
    {
     "data": {
      "text/plain": [
       "LogisticRegression(penalty='none', solver='sag')"
      ]
     },
     "execution_count": 130,
     "metadata": {},
     "output_type": "execute_result"
    }
   ],
   "source": [
    "from sklearn.linear_model import LogisticRegression\n",
    "clf = LogisticRegression(penalty='none',solver='sag')\n",
    "clf.fit(X_train_new,y_train)"
   ]
  },
  {
   "cell_type": "code",
   "execution_count": 131,
   "id": "a44ae462",
   "metadata": {},
   "outputs": [
    {
     "data": {
      "text/plain": [
       "1.0"
      ]
     },
     "execution_count": 131,
     "metadata": {},
     "output_type": "execute_result"
    }
   ],
   "source": [
    "from sklearn.metrics import accuracy_score\n",
    "y_pred1 = clf.predict(X_train_new)\n",
    "accuracy_score(y_train,y_pred1)"
   ]
  },
  {
   "cell_type": "code",
   "execution_count": 132,
   "id": "6a3c2003",
   "metadata": {},
   "outputs": [],
   "source": [
    "y_pred = clf.predict(X_test_new)"
   ]
  },
  {
   "cell_type": "code",
   "execution_count": 133,
   "id": "14b1e71c",
   "metadata": {},
   "outputs": [
    {
     "data": {
      "text/plain": [
       "array([14, 13, 16, 16, 15,  9,  2, 17,  1,  8, 19,  7, 15, 14,  5,  7,  0,\n",
       "       14,  8,  1, 19, 14,  3, 15, 16, 15, 10, 10,  6, 10, 11,  2,  2,  4,\n",
       "        2,  8,  3, 16,  4,  7, 14, 18, 10, 10, 11,  3,  1,  3, 12,  9, 16,\n",
       "       17, 11, 13, 19,  3, 14,  7, 15, 19,  0,  2,  1, 11, 17, 19,  1,  3,\n",
       "        8,  6,  1, 13,  2, 19,  8, 16,  9, 19, 12,  8,  1,  9, 12, 19,  0,\n",
       "       18,  3,  0,  1,  1,  9, 13, 18, 16, 10,  2, 10, 12, 15, 18,  2, 11,\n",
       "       17, 10,  5, 16,  1,  8,  2,  0, 18,  0,  6, 12, 15, 15, 16,  3,  2,\n",
       "        1,  3,  3,  4, 15,  7, 18, 14,  1, 10,  1,  8, 15,  1,  6, 13,  6,\n",
       "       19,  2,  9, 17,  3,  5,  6,  7, 12, 16,  0,  9,  5,  3, 15, 17, 15,\n",
       "        3,  3,  1, 14, 13, 15, 12,  8,  4, 14,  5, 19,  6,  0, 17,  9,  7,\n",
       "        7, 16, 12,  5,  3, 12, 11,  3, 16, 10, 17, 19,  2, 10,  4,  5, 19,\n",
       "        6, 13,  5,  2, 13,  0, 18,  0,  3,  0, 13, 12, 19, 15,  1,  4,  0,\n",
       "       15, 17,  5,  6, 11, 18,  4,  9, 13,  7,  1,  6, 10, 19,  3, 15,  0,\n",
       "       11,  9, 17,  6, 15,  1,  5,  9, 12, 19, 15, 15, 16, 19,  4, 16,  0,\n",
       "        0,  3,  0, 15, 19, 10])"
      ]
     },
     "execution_count": 133,
     "metadata": {},
     "output_type": "execute_result"
    }
   ],
   "source": [
    "y_pred"
   ]
  },
  {
   "cell_type": "code",
   "execution_count": 134,
   "id": "71dd6705",
   "metadata": {},
   "outputs": [
    {
     "data": {
      "text/plain": [
       "0.8114754098360656"
      ]
     },
     "execution_count": 134,
     "metadata": {},
     "output_type": "execute_result"
    }
   ],
   "source": [
    "accuracy_score(y_test,y_pred)"
   ]
  },
  {
   "cell_type": "code",
   "execution_count": 9,
   "id": "f77999cd",
   "metadata": {},
   "outputs": [
    {
     "name": "stderr",
     "output_type": "stream",
     "text": [
      "C:\\Python39\\lib\\site-packages\\sklearn\\linear_model\\_logistic.py:814: ConvergenceWarning: lbfgs failed to converge (status=1):\n",
      "STOP: TOTAL NO. of ITERATIONS REACHED LIMIT.\n",
      "\n",
      "Increase the number of iterations (max_iter) or scale the data as shown in:\n",
      "    https://scikit-learn.org/stable/modules/preprocessing.html\n",
      "Please also refer to the documentation for alternative solver options:\n",
      "    https://scikit-learn.org/stable/modules/linear_model.html#logistic-regression\n",
      "  n_iter_i = _check_optimize_result(\n"
     ]
    },
    {
     "data": {
      "text/plain": [
       "1.0"
      ]
     },
     "execution_count": 9,
     "metadata": {},
     "output_type": "execute_result"
    }
   ],
   "source": [
    "from sklearn.linear_model import LogisticRegression\n",
    "clf = LogisticRegression()\n",
    "clf.fit(X_train_new,y_train)\n",
    "y_pred_t = clf.predict(X_train_new)\n",
    "from sklearn.metrics import accuracy_score\n",
    "accuracy_score(y_train,y_pred_t)"
   ]
  },
  {
   "cell_type": "code",
   "execution_count": 10,
   "id": "fc3ac3dd",
   "metadata": {},
   "outputs": [
    {
     "data": {
      "text/plain": [
       "0.8114754098360656"
      ]
     },
     "execution_count": 10,
     "metadata": {},
     "output_type": "execute_result"
    }
   ],
   "source": [
    "y_pred = clf.predict(X_test_new)\n",
    "accuracy_score(y_test,y_pred)"
   ]
  },
  {
   "cell_type": "code",
   "execution_count": null,
   "id": "d0755244",
   "metadata": {},
   "outputs": [],
   "source": []
  }
 ],
 "metadata": {
  "kernelspec": {
   "display_name": "Python 3 (ipykernel)",
   "language": "python",
   "name": "python3"
  },
  "language_info": {
   "codemirror_mode": {
    "name": "ipython",
    "version": 3
   },
   "file_extension": ".py",
   "mimetype": "text/x-python",
   "name": "python",
   "nbconvert_exporter": "python",
   "pygments_lexer": "ipython3",
   "version": "3.9.7"
  }
 },
 "nbformat": 4,
 "nbformat_minor": 5
}
