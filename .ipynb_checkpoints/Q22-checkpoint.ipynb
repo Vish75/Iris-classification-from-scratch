{
 "cells": [
  {
   "cell_type": "code",
   "execution_count": 1,
   "id": "8b7881fc",
   "metadata": {},
   "outputs": [],
   "source": [
    "import numpy as np\n",
    "from matplotlib import pyplot as plt\n",
    "from sklearn.datasets import make_blobs\n",
    "from matplotlib import style\n",
    "data = np.load('kmeans_data.npy')\n",
    "import sys"
   ]
  },
  {
   "cell_type": "code",
   "execution_count": 2,
   "id": "3950c44c",
   "metadata": {},
   "outputs": [
    {
     "data": {
      "text/plain": [
       "(3000, 2)"
      ]
     },
     "execution_count": 2,
     "metadata": {},
     "output_type": "execute_result"
    }
   ],
   "source": [
    "data.shape"
   ]
  },
  {
   "cell_type": "code",
   "execution_count": 3,
   "id": "fd682759",
   "metadata": {},
   "outputs": [
    {
     "data": {
      "text/plain": [
       "array([[ 3.6277636 ,  5.79177365],\n",
       "       [ 1.7696035 ,  0.42564789],\n",
       "       [-3.94689214, -5.40191693],\n",
       "       ...,\n",
       "       [ 7.62306152,  5.41818722],\n",
       "       [-0.90716232, -0.68148734],\n",
       "       [ 1.40717156,  1.39023496]])"
      ]
     },
     "execution_count": 3,
     "metadata": {},
     "output_type": "execute_result"
    }
   ],
   "source": [
    "data"
   ]
  },
  {
   "cell_type": "code",
   "execution_count": 4,
   "id": "7b0799c4",
   "metadata": {},
   "outputs": [
    {
     "data": {
      "text/plain": [
       "<matplotlib.collections.PathCollection at 0x204032fc6d0>"
      ]
     },
     "execution_count": 4,
     "metadata": {},
     "output_type": "execute_result"
    },
    {
     "data": {
      "image/png": "[encoded data removed]",
      "text/plain": [
       "<Figure size 432x288 with 1 Axes>"
      ]
     },
     "metadata": {
      "needs_background": "light"
     },
     "output_type": "display_data"
    }
   ],
   "source": [
    "plt.scatter(data[:, 0], data[:, 1], cmap='hot')"
   ]
  },
  {
   "cell_type": "code",
   "execution_count": null,
   "id": "d1fda4e4",
   "metadata": {},
   "outputs": [],
   "source": []
  },
  {
   "cell_type": "code",
   "execution_count": 23,
   "id": "e10b720c",
   "metadata": {},
   "outputs": [],
   "source": [
    "class custom_kmeans:\n",
    "    def __init__(self, k=5, epochs=300):\n",
    "        self.k = k\n",
    "        self.epochs = epochs\n",
    "    def calc_dist(self,point, dataset):\n",
    "        return np.sqrt(np.sum((point-dataset)**2))\n",
    "    def fit(self,data):\n",
    "        centroids = {}\n",
    "        for i in range(self.k):\n",
    "            centroids[i] = data[i]\n",
    "        self.classifications = np.mat(np.zeros((3000,2)))\n",
    "        prev_centroids = centroids.copy()\n",
    "        changed = True\n",
    "        max_itr = 0\n",
    "        while changed and max_itr<self.epochs:\n",
    "            changed = False\n",
    "            for i in range(3000):\n",
    "                min_dist = np.inf\n",
    "                min_index = -1  \n",
    "                for j in range(self.k):\n",
    "                    dist = self.calc_dist(centroids[j],data[i])\n",
    "                    if(dist < min_dist):\n",
    "                        min_dist = dist\n",
    "                        min_index = j \n",
    "                    \n",
    "                    if self.classifications[i, 0] != min_index: \n",
    "                        changed = True\n",
    "                self.classifications[i, :] = min_index, min_dist**2\n",
    "            for cent in range(self.k):\n",
    "                points = data[np.nonzero(self.classifications[:,0].A==cent)[0]]\n",
    "                centroids[cent] = np.mean(points, axis=0)\n",
    "    \n",
    "            \n",
    "            max_itr += 1\n",
    "            \n",
    "\n",
    "         \n",
    "        return centroids, self.classifications\n",
    "     "
   ]
  },
  {
   "cell_type": "code",
   "execution_count": 24,
   "id": "755e8c6b",
   "metadata": {},
   "outputs": [],
   "source": [
    "model = custom_kmeans()\n",
    "centroids, classification = model.fit(data)"
   ]
  },
  {
   "cell_type": "code",
   "execution_count": 25,
   "id": "a957ceb3",
   "metadata": {},
   "outputs": [
    {
     "data": {
      "text/plain": [
       "({0: array([7.02202158, 5.95168054]),\n",
       "  1: array([-0.98345989, -0.99499236]),\n",
       "  2: array([-3.97549737, -4.96579853]),\n",
       "  3: array([3.98762924, 5.00042633]),\n",
       "  4: array([1.01128727, 1.0192412 ])},\n",
       " matrix([[3.        , 0.75573385],\n",
       "         [4.        , 0.92739653],\n",
       "         [2.        , 0.19101752],\n",
       "         ...,\n",
       "         [0.        , 0.64586413],\n",
       "         [1.        , 0.10410672],\n",
       "         [4.        , 0.29436075]]))"
      ]
     },
     "execution_count": 25,
     "metadata": {},
     "output_type": "execute_result"
    }
   ],
   "source": [
    "centroids, classification"
   ]
  },
  {
   "cell_type": "code",
   "execution_count": 26,
   "id": "9484a793",
   "metadata": {},
   "outputs": [
    {
     "ename": "TypeError",
     "evalue": "'list' object cannot be interpreted as an integer",
     "output_type": "error",
     "traceback": [
      "\u001b[1;31m---------------------------------------------------------------------------\u001b[0m",
      "\u001b[1;31mTypeError\u001b[0m                                 Traceback (most recent call last)",
      "Input \u001b[1;32mIn [26]\u001b[0m, in \u001b[0;36m<cell line: 21>\u001b[1;34m()\u001b[0m\n\u001b[0;32m     19\u001b[0m mx \u001b[38;5;241m=\u001b[39m \u001b[38;5;241m-\u001b[39m\u001b[38;5;241m1\u001b[39m\n\u001b[0;32m     20\u001b[0m mx_i \u001b[38;5;241m=\u001b[39m \u001b[38;5;241m-\u001b[39m\u001b[38;5;241m1\u001b[39m\n\u001b[1;32m---> 21\u001b[0m \u001b[38;5;28;01mfor\u001b[39;00m i \u001b[38;5;129;01min\u001b[39;00m \u001b[38;5;28;43mrange\u001b[39;49m\u001b[43m(\u001b[49m\u001b[43mcosts\u001b[49m\u001b[43m)\u001b[49m:\n\u001b[0;32m     22\u001b[0m     \u001b[38;5;28;01mif\u001b[39;00m costs[i]\u001b[38;5;241m>\u001b[39mmx:\n\u001b[0;32m     23\u001b[0m         mx \u001b[38;5;241m=\u001b[39m costs[i]\n",
      "\u001b[1;31mTypeError\u001b[0m: 'list' object cannot be interpreted as an integer"
     ]
    }
   ],
   "source": [
    "def calc_dist(point, dataset):\n",
    "        return np.sqrt(np.sum((point-dataset)**2))\n",
    "costs=[]\n",
    "for i in range (1,11):\n",
    "    model = custom_kmeans(i,300)\n",
    "    centroids, classifications = model.fit(data)\n",
    "    dist = 0\n",
    "    a = 0\n",
    "    s = 0\n",
    "    for k in range(len(data)):\n",
    "        for j in range(i):\n",
    "            dist += calc_dist(centroids[j],data[k])\n",
    "    dist -= sum(classifications[:,1])/len(data)\n",
    "    a = sum(classifications[:,1])/(len(data)-1)\n",
    "    s = (dist - a)/max(dist,a)\n",
    "    s = np.array(s)\n",
    "    s =  s.item()\n",
    "    costs.append(s)\n",
    "mx = -1\n",
    "mx_i = -1\n"
   ]
  },
  {
   "cell_type": "code",
   "execution_count": 27,
   "id": "c2913e0e",
   "metadata": {},
   "outputs": [
    {
     "name": "stdout",
     "output_type": "stream",
     "text": [
      "10\n"
     ]
    }
   ],
   "source": [
    "for i in range(len(costs)):\n",
    "    if costs[i]>mx:\n",
    "        mx = costs[i]\n",
    "        mx_i = i\n",
    "print(mx_i+1)"
   ]
  },
  {
   "cell_type": "code",
   "execution_count": 28,
   "id": "6e4fa6a5",
   "metadata": {},
   "outputs": [],
   "source": [
    "def plot(data,index,centroids):\n",
    "    input = []\n",
    "    for i in range(len(index)):\n",
    "        for j in index[i]:\n",
    "            input.append(int(j))\n",
    "            \n",
    "    colors = [\"g\",\"r\",\"c\",\"b\",\"k\",\"palegreen\",\"purple\",\"cyan\",\"yellow\",\"magenta\"]\n",
    "    j=0\n",
    "    for i in input:\n",
    "        plt.scatter(data[j,0], data[j,1], marker=\"x\", color=colors[i], s=150, linewidths=5)\n",
    "        j+=1\n",
    "    ## New centroids\n",
    "    for centroid in range(len(centroids)):\n",
    "        plt.scatter(centroids[centroid][0],centroids[centroid][1],marker=\"o\", color=\"k\", s=150, linewidths=5)\n",
    "    # Original Clusters\n",
    "    "
   ]
  },
  {
   "cell_type": "code",
   "execution_count": 29,
   "id": "c4d03845",
   "metadata": {},
   "outputs": [
    {
     "data": {
      "image/png": "[encoded data removed]",
      "text/plain": [
       "<Figure size 432x288 with 1 Axes>"
      ]
     },
     "metadata": {
      "needs_background": "light"
     },
     "output_type": "display_data"
    }
   ],
   "source": [
    "index = classifications[:,0]\n",
    "plot(data,index,centroids)"
   ]
  },
  {
   "cell_type": "code",
   "execution_count": null,
   "id": "067f915f",
   "metadata": {},
   "outputs": [],
   "source": []
  },
  {
   "cell_type": "code",
   "execution_count": null,
   "id": "0c2f2a34",
   "metadata": {},
   "outputs": [],
   "source": []
  },
  {
   "cell_type": "code",
   "execution_count": null,
   "id": "f3833544",
   "metadata": {},
   "outputs": [],
   "source": []
  }
 ],
 "metadata": {
  "kernelspec": {
   "display_name": "Python 3 (ipykernel)",
   "language": "python",
   "name": "python3"
  },
  "language_info": {
   "codemirror_mode": {
    "name": "ipython",
    "version": 3
   },
   "file_extension": ".py",
   "mimetype": "text/x-python",
   "name": "python",
   "nbconvert_exporter": "python",
   "pygments_lexer": "ipython3",
   "version": "3.9.7"
  }
 },
 "nbformat": 4,
 "nbformat_minor": 5
}
