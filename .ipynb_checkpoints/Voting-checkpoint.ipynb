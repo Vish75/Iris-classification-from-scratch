{
 "cells": [
  {
   "cell_type": "code",
   "execution_count": 1,
   "id": "377df416",
   "metadata": {},
   "outputs": [],
   "source": [
    "import numpy as np\n",
    "import pandas as pd\n",
    "import matplotlib.pyplot as plt\n",
    "from sklearn.model_selection import train_test_split\n",
    "from sklearn.preprocessing import StandardScaler\n",
    "from sklearn.decomposition import PCA"
   ]
  },
  {
   "cell_type": "code",
   "execution_count": 2,
   "id": "5f9fa345",
   "metadata": {},
   "outputs": [],
   "source": [
    "df = pd.read_csv('train.csv')\n"
   ]
  },
  {
   "cell_type": "code",
   "execution_count": 9,
   "id": "737d1b69",
   "metadata": {},
   "outputs": [
    {
     "data": {
      "text/plain": [
       "(1216, 4096)"
      ]
     },
     "execution_count": 9,
     "metadata": {},
     "output_type": "execute_result"
    }
   ],
   "source": [
    "X = df.iloc[:,1:4097]\n",
    "y = df.iloc[:,4097:4098]\n",
    "X.shape\n"
   ]
  },
  {
   "cell_type": "code",
   "execution_count": 10,
   "id": "193ff832",
   "metadata": {},
   "outputs": [],
   "source": [
    "from sklearn.cluster import KMeans\n",
    "km = KMeans(n_clusters = 20, init = 'random', n_init = 10, max_iter = 300, tol = 1e-04, random_state = 0)\n",
    "y_km = km.fit_predict(X)"
   ]
  },
  {
   "cell_type": "code",
   "execution_count": 11,
   "id": "fa4e1401",
   "metadata": {},
   "outputs": [],
   "source": [
    "y_km.shape\n",
    "X.shape\n",
    "X = np.c_[X,y_km]"
   ]
  },
  {
   "cell_type": "code",
   "execution_count": 12,
   "id": "ffb7299b",
   "metadata": {
    "collapsed": true
   },
   "outputs": [
    {
     "name": "stderr",
     "output_type": "stream",
     "text": [
      "C:\\Python39\\lib\\site-packages\\sklearn\\preprocessing\\_label.py:115: DataConversionWarning: A column-vector y was passed when a 1d array was expected. Please change the shape of y to (n_samples, ), for example using ravel().\n",
      "  y = column_or_1d(y, warn=True)\n"
     ]
    },
    {
     "data": {
      "text/plain": [
       "array([13,  3, 10, ...,  3,  7,  7])"
      ]
     },
     "execution_count": 12,
     "metadata": {},
     "output_type": "execute_result"
    }
   ],
   "source": [
    "from sklearn.preprocessing import LabelEncoder\n",
    "lr = LabelEncoder()\n",
    "y = lr.fit_transform(y)\n",
    "y.shape\n",
    "y"
   ]
  },
  {
   "cell_type": "code",
   "execution_count": 13,
   "id": "15a15b0e",
   "metadata": {},
   "outputs": [],
   "source": [
    "X_train, X_test, y_train, y_test = train_test_split(X,y,test_size=0.2,random_state = 22,stratify=y)"
   ]
  },
  {
   "cell_type": "code",
   "execution_count": 15,
   "id": "7fe6702c",
   "metadata": {},
   "outputs": [],
   "source": [
    "sc = StandardScaler()\n",
    "X_train_new = sc.fit_transform(X_train)\n",
    "X_test_new = sc.transform(X_test)"
   ]
  },
  {
   "cell_type": "code",
   "execution_count": 48,
   "id": "fa8f82cd",
   "metadata": {},
   "outputs": [
    {
     "name": "stderr",
     "output_type": "stream",
     "text": [
      "C:\\Python39\\lib\\site-packages\\sklearn\\linear_model\\_logistic.py:814: ConvergenceWarning: lbfgs failed to converge (status=1):\n",
      "STOP: TOTAL NO. of ITERATIONS REACHED LIMIT.\n",
      "\n",
      "Increase the number of iterations (max_iter) or scale the data as shown in:\n",
      "    https://scikit-learn.org/stable/modules/preprocessing.html\n",
      "Please also refer to the documentation for alternative solver options:\n",
      "    https://scikit-learn.org/stable/modules/linear_model.html#logistic-regression\n",
      "  n_iter_i = _check_optimize_result(\n"
     ]
    },
    {
     "data": {
      "text/plain": [
       "VotingClassifier(estimators=[('LR', LogisticRegression(max_iter=200)),\n",
       "                             ('SVC', SVC(kernel='linear', probability=True))])"
      ]
     },
     "execution_count": 48,
     "metadata": {},
     "output_type": "execute_result"
    }
   ],
   "source": [
    "from sklearn.linear_model import LogisticRegression\n",
    "from sklearn.svm import SVC\n",
    "from sklearn.ensemble import VotingClassifier\n",
    "estimator = []\n",
    "estimator.append(('LR', \n",
    "                  LogisticRegression(max_iter=200)))\n",
    "estimator.append(('SVC', SVC(kernel='linear',probability=True)))\n",
    "vot_hard = VotingClassifier(estimators = estimator, voting ='hard')\n",
    "vot_hard.fit(X_train_new, y_train)\n"
   ]
  },
  {
   "cell_type": "code",
   "execution_count": 49,
   "id": "c86631d3",
   "metadata": {},
   "outputs": [
    {
     "data": {
      "text/plain": [
       "1.0"
      ]
     },
     "execution_count": 49,
     "metadata": {},
     "output_type": "execute_result"
    }
   ],
   "source": [
    "y_pred_t = vot_hard.predict(X_train_new)\n",
    "from sklearn.metrics import accuracy_score\n",
    "accuracy_score(y_train,y_pred_t)"
   ]
  },
  {
   "cell_type": "code",
   "execution_count": 50,
   "id": "8bb8ef24",
   "metadata": {},
   "outputs": [],
   "source": [
    "y_pred = vot_hard.predict(X_test_new)"
   ]
  },
  {
   "cell_type": "code",
   "execution_count": 51,
   "id": "007b696d",
   "metadata": {},
   "outputs": [
    {
     "data": {
      "text/plain": [
       "0.8237704918032787"
      ]
     },
     "execution_count": 51,
     "metadata": {},
     "output_type": "execute_result"
    }
   ],
   "source": [
    "accuracy_score(y_test,y_pred)"
   ]
  },
  {
   "cell_type": "code",
   "execution_count": 52,
   "id": "6437ecc2",
   "metadata": {},
   "outputs": [],
   "source": [
    "df_new = pd.read_csv('test.csv')"
   ]
  },
  {
   "cell_type": "code",
   "execution_count": 53,
   "id": "6a17d155",
   "metadata": {},
   "outputs": [],
   "source": [
    "X_pred = df_new.iloc[:,1:4098]"
   ]
  },
  {
   "cell_type": "code",
   "execution_count": 55,
   "id": "76c223fa",
   "metadata": {},
   "outputs": [],
   "source": [
    "y_me = km.predict(X_pred)"
   ]
  },
  {
   "cell_type": "code",
   "execution_count": 56,
   "id": "3cb27e02",
   "metadata": {},
   "outputs": [],
   "source": [
    "X_pred = np.c_[X_pred,y_me]"
   ]
  },
  {
   "cell_type": "code",
   "execution_count": 57,
   "id": "d7a47f9a",
   "metadata": {},
   "outputs": [],
   "source": [
    "X_pred_new = sc.transform(X_pred)"
   ]
  },
  {
   "cell_type": "code",
   "execution_count": 58,
   "id": "1849b3c4",
   "metadata": {},
   "outputs": [],
   "source": [
    "y_pred_trans = clf.predict(X_pred_new)"
   ]
  },
  {
   "cell_type": "code",
   "execution_count": 59,
   "id": "7f395e29",
   "metadata": {},
   "outputs": [
    {
     "data": {
      "text/plain": [
       "array([ 8, 12, 17, 18, 13,  3, 13,  1,  5,  5, 19,  3, 10, 15,  7,  9, 12,\n",
       "        2, 11, 12,  6,  3, 13, 16, 12, 19,  0, 13,  5, 13,  3,  1,  8,  2,\n",
       "       10,  4,  1, 12, 12, 16,  6, 14,  8, 15, 18,  1,  8,  1,  3, 15, 14,\n",
       "       11, 10,  7,  1,  9, 11, 10,  4, 19,  3,  6,  0, 16, 18,  0, 14,  6,\n",
       "        6, 16,  7, 19, 11, 15,  4,  7,  5, 15,  2, 14, 10,  0,  1,  5, 14,\n",
       "       18, 10, 11,  3, 12, 16, 15, 16,  1, 11,  0,  8, 12,  3, 16,  7, 13,\n",
       "       16, 14, 13,  1,  0, 11,  1, 19,  4, 18, 18, 11, 11, 15, 18, 15, 19,\n",
       "        6,  1, 15,  5,  0,  6, 13, 13,  1, 12, 19,  5, 12, 18, 14, 18,  8,\n",
       "        2,  6, 11,  1,  4, 10,  4,  0, 18, 14, 16,  3, 17,  8, 11,  8, 19,\n",
       "       17, 10, 16, 19, 13, 13, 18,  5, 18,  9,  3, 10, 11, 13,  0,  0, 12,\n",
       "        2,  9,  1,  3,  7, 10, 17,  8, 16, 18,  3,  4,  2, 14,  9,  3,  3,\n",
       "       19, 11,  6,  7, 11,  4,  1, 12,  2,  1,  2, 14, 19, 19,  0,  9, 15,\n",
       "        6,  2,  8,  3,  3,  9, 19, 18, 17, 19, 17,  2,  0,  0, 18,  1, 10,\n",
       "       13,  5,  7, 11,  1, 19, 16, 19, 18, 10, 15, 19, 14, 15, 14, 16, 11,\n",
       "       11,  7,  7,  5,  9,  8, 11,  3,  1,  3,  6, 14, 14,  3,  9,  0,  1,\n",
       "        1,  7, 12,  2, 15,  4,  9, 12,  0, 16, 10, 10,  3, 13,  5, 15,  5,\n",
       "       14, 11, 12,  4, 15,  3, 19, 16,  9,  1,  3, 19,  1,  0, 15, 15, 19,\n",
       "       19,  2,  7, 17,  0, 10,  7, 19,  9,  4,  0,  9, 16,  6,  6,  8, 17,\n",
       "       17, 19,  3,  1,  6,  9, 16,  7, 15, 10,  7, 19, 15,  7, 17, 14, 18,\n",
       "       18,  6, 18, 17,  9, 13,  6,  9,  4, 15,  1,  5, 17, 15, 19, 16, 18,\n",
       "        0, 10,  0,  0, 11,  2, 14,  2, 19, 17,  4, 11, 16, 15,  7, 19,  0,\n",
       "        5, 18, 16,  0, 16, 19,  0,  0,  0, 16,  9, 17, 19,  2, 12, 14,  7,\n",
       "        5, 15, 14,  5,  6,  3,  1, 10,  4,  6, 16,  9,  2, 12, 13,  2,  2,\n",
       "       11,  1,  6,  3,  9,  2, 15, 16,  1,  3, 13,  1,  8, 17, 19,  5,  3,\n",
       "       10, 10, 13,  1,  3,  0,  8])"
      ]
     },
     "execution_count": 59,
     "metadata": {},
     "output_type": "execute_result"
    }
   ],
   "source": [
    "y_pred_trans"
   ]
  },
  {
   "cell_type": "code",
   "execution_count": 60,
   "id": "5ec20ced",
   "metadata": {},
   "outputs": [],
   "source": [
    "y_only = lr.inverse_transform(y_pred_trans)"
   ]
  },
  {
   "cell_type": "code",
   "execution_count": 61,
   "id": "1697c47a",
   "metadata": {},
   "outputs": [
    {
     "data": {
      "text/plain": [
       "array(['Leeche_Raw', 'Orange_Raw', 'Pomengranate_Ripe', 'Strawberry_Raw',\n",
       "       'Orange_Ripe', 'Banana_Ripe', 'Orange_Ripe', 'Apple_Ripe',\n",
       "       'Coconut_Ripe', 'Coconut_Ripe', 'Strawberry_Ripe', 'Banana_Ripe',\n",
       "       'Mango_Raw', 'Papaya_Ripe', 'Guava_Ripe', 'Leeche_Ripe',\n",
       "       'Orange_Raw', 'Banana_Raw', 'Mango_Ripe', 'Orange_Raw',\n",
       "       'Guava_Raw', 'Banana_Ripe', 'Orange_Ripe', 'Pomengranate_Raw',\n",
       "       'Orange_Raw', 'Strawberry_Ripe', 'Apple_Raw', 'Orange_Ripe',\n",
       "       'Coconut_Ripe', 'Orange_Ripe', 'Banana_Ripe', 'Apple_Ripe',\n",
       "       'Leeche_Raw', 'Banana_Raw', 'Mango_Raw', 'Coconut_Raw',\n",
       "       'Apple_Ripe', 'Orange_Raw', 'Orange_Raw', 'Pomengranate_Raw',\n",
       "       'Guava_Raw', 'Papaya_Raw', 'Leeche_Raw', 'Papaya_Ripe',\n",
       "       'Strawberry_Raw', 'Apple_Ripe', 'Leeche_Raw', 'Apple_Ripe',\n",
       "       'Banana_Ripe', 'Papaya_Ripe', 'Papaya_Raw', 'Mango_Ripe',\n",
       "       'Mango_Raw', 'Guava_Ripe', 'Apple_Ripe', 'Leeche_Ripe',\n",
       "       'Mango_Ripe', 'Mango_Raw', 'Coconut_Raw', 'Strawberry_Ripe',\n",
       "       'Banana_Ripe', 'Guava_Raw', 'Apple_Raw', 'Pomengranate_Raw',\n",
       "       'Strawberry_Raw', 'Apple_Raw', 'Papaya_Raw', 'Guava_Raw',\n",
       "       'Guava_Raw', 'Pomengranate_Raw', 'Guava_Ripe', 'Strawberry_Ripe',\n",
       "       'Mango_Ripe', 'Papaya_Ripe', 'Coconut_Raw', 'Guava_Ripe',\n",
       "       'Coconut_Ripe', 'Papaya_Ripe', 'Banana_Raw', 'Papaya_Raw',\n",
       "       'Mango_Raw', 'Apple_Raw', 'Apple_Ripe', 'Coconut_Ripe',\n",
       "       'Papaya_Raw', 'Strawberry_Raw', 'Mango_Raw', 'Mango_Ripe',\n",
       "       'Banana_Ripe', 'Orange_Raw', 'Pomengranate_Raw', 'Papaya_Ripe',\n",
       "       'Pomengranate_Raw', 'Apple_Ripe', 'Mango_Ripe', 'Apple_Raw',\n",
       "       'Leeche_Raw', 'Orange_Raw', 'Banana_Ripe', 'Pomengranate_Raw',\n",
       "       'Guava_Ripe', 'Orange_Ripe', 'Pomengranate_Raw', 'Papaya_Raw',\n",
       "       'Orange_Ripe', 'Apple_Ripe', 'Apple_Raw', 'Mango_Ripe',\n",
       "       'Apple_Ripe', 'Strawberry_Ripe', 'Coconut_Raw', 'Strawberry_Raw',\n",
       "       'Strawberry_Raw', 'Mango_Ripe', 'Mango_Ripe', 'Papaya_Ripe',\n",
       "       'Strawberry_Raw', 'Papaya_Ripe', 'Strawberry_Ripe', 'Guava_Raw',\n",
       "       'Apple_Ripe', 'Papaya_Ripe', 'Coconut_Ripe', 'Apple_Raw',\n",
       "       'Guava_Raw', 'Orange_Ripe', 'Orange_Ripe', 'Apple_Ripe',\n",
       "       'Orange_Raw', 'Strawberry_Ripe', 'Coconut_Ripe', 'Orange_Raw',\n",
       "       'Strawberry_Raw', 'Papaya_Raw', 'Strawberry_Raw', 'Leeche_Raw',\n",
       "       'Banana_Raw', 'Guava_Raw', 'Mango_Ripe', 'Apple_Ripe',\n",
       "       'Coconut_Raw', 'Mango_Raw', 'Coconut_Raw', 'Apple_Raw',\n",
       "       'Strawberry_Raw', 'Papaya_Raw', 'Pomengranate_Raw', 'Banana_Ripe',\n",
       "       'Pomengranate_Ripe', 'Leeche_Raw', 'Mango_Ripe', 'Leeche_Raw',\n",
       "       'Strawberry_Ripe', 'Pomengranate_Ripe', 'Mango_Raw',\n",
       "       'Pomengranate_Raw', 'Strawberry_Ripe', 'Orange_Ripe',\n",
       "       'Orange_Ripe', 'Strawberry_Raw', 'Coconut_Ripe', 'Strawberry_Raw',\n",
       "       'Leeche_Ripe', 'Banana_Ripe', 'Mango_Raw', 'Mango_Ripe',\n",
       "       'Orange_Ripe', 'Apple_Raw', 'Apple_Raw', 'Orange_Raw',\n",
       "       'Banana_Raw', 'Leeche_Ripe', 'Apple_Ripe', 'Banana_Ripe',\n",
       "       'Guava_Ripe', 'Mango_Raw', 'Pomengranate_Ripe', 'Leeche_Raw',\n",
       "       'Pomengranate_Raw', 'Strawberry_Raw', 'Banana_Ripe', 'Coconut_Raw',\n",
       "       'Banana_Raw', 'Papaya_Raw', 'Leeche_Ripe', 'Banana_Ripe',\n",
       "       'Banana_Ripe', 'Strawberry_Ripe', 'Mango_Ripe', 'Guava_Raw',\n",
       "       'Guava_Ripe', 'Mango_Ripe', 'Coconut_Raw', 'Apple_Ripe',\n",
       "       'Orange_Raw', 'Banana_Raw', 'Apple_Ripe', 'Banana_Raw',\n",
       "       'Papaya_Raw', 'Strawberry_Ripe', 'Strawberry_Ripe', 'Apple_Raw',\n",
       "       'Leeche_Ripe', 'Papaya_Ripe', 'Guava_Raw', 'Banana_Raw',\n",
       "       'Leeche_Raw', 'Banana_Ripe', 'Banana_Ripe', 'Leeche_Ripe',\n",
       "       'Strawberry_Ripe', 'Strawberry_Raw', 'Pomengranate_Ripe',\n",
       "       'Strawberry_Ripe', 'Pomengranate_Ripe', 'Banana_Raw', 'Apple_Raw',\n",
       "       'Apple_Raw', 'Strawberry_Raw', 'Apple_Ripe', 'Mango_Raw',\n",
       "       'Orange_Ripe', 'Coconut_Ripe', 'Guava_Ripe', 'Mango_Ripe',\n",
       "       'Apple_Ripe', 'Strawberry_Ripe', 'Pomengranate_Raw',\n",
       "       'Strawberry_Ripe', 'Strawberry_Raw', 'Mango_Raw', 'Papaya_Ripe',\n",
       "       'Strawberry_Ripe', 'Papaya_Raw', 'Papaya_Ripe', 'Papaya_Raw',\n",
       "       'Pomengranate_Raw', 'Mango_Ripe', 'Mango_Ripe', 'Guava_Ripe',\n",
       "       'Guava_Ripe', 'Coconut_Ripe', 'Leeche_Ripe', 'Leeche_Raw',\n",
       "       'Mango_Ripe', 'Banana_Ripe', 'Apple_Ripe', 'Banana_Ripe',\n",
       "       'Guava_Raw', 'Papaya_Raw', 'Papaya_Raw', 'Banana_Ripe',\n",
       "       'Leeche_Ripe', 'Apple_Raw', 'Apple_Ripe', 'Apple_Ripe',\n",
       "       'Guava_Ripe', 'Orange_Raw', 'Banana_Raw', 'Papaya_Ripe',\n",
       "       'Coconut_Raw', 'Leeche_Ripe', 'Orange_Raw', 'Apple_Raw',\n",
       "       'Pomengranate_Raw', 'Mango_Raw', 'Mango_Raw', 'Banana_Ripe',\n",
       "       'Orange_Ripe', 'Coconut_Ripe', 'Papaya_Ripe', 'Coconut_Ripe',\n",
       "       'Papaya_Raw', 'Mango_Ripe', 'Orange_Raw', 'Coconut_Raw',\n",
       "       'Papaya_Ripe', 'Banana_Ripe', 'Strawberry_Ripe',\n",
       "       'Pomengranate_Raw', 'Leeche_Ripe', 'Apple_Ripe', 'Banana_Ripe',\n",
       "       'Strawberry_Ripe', 'Apple_Ripe', 'Apple_Raw', 'Papaya_Ripe',\n",
       "       'Papaya_Ripe', 'Strawberry_Ripe', 'Strawberry_Ripe', 'Banana_Raw',\n",
       "       'Guava_Ripe', 'Pomengranate_Ripe', 'Apple_Raw', 'Mango_Raw',\n",
       "       'Guava_Ripe', 'Strawberry_Ripe', 'Leeche_Ripe', 'Coconut_Raw',\n",
       "       'Apple_Raw', 'Leeche_Ripe', 'Pomengranate_Raw', 'Guava_Raw',\n",
       "       'Guava_Raw', 'Leeche_Raw', 'Pomengranate_Ripe',\n",
       "       'Pomengranate_Ripe', 'Strawberry_Ripe', 'Banana_Ripe',\n",
       "       'Apple_Ripe', 'Guava_Raw', 'Leeche_Ripe', 'Pomengranate_Raw',\n",
       "       'Guava_Ripe', 'Papaya_Ripe', 'Mango_Raw', 'Guava_Ripe',\n",
       "       'Strawberry_Ripe', 'Papaya_Ripe', 'Guava_Ripe',\n",
       "       'Pomengranate_Ripe', 'Papaya_Raw', 'Strawberry_Raw',\n",
       "       'Strawberry_Raw', 'Guava_Raw', 'Strawberry_Raw',\n",
       "       'Pomengranate_Ripe', 'Leeche_Ripe', 'Orange_Ripe', 'Guava_Raw',\n",
       "       'Leeche_Ripe', 'Coconut_Raw', 'Papaya_Ripe', 'Apple_Ripe',\n",
       "       'Coconut_Ripe', 'Pomengranate_Ripe', 'Papaya_Ripe',\n",
       "       'Strawberry_Ripe', 'Pomengranate_Raw', 'Strawberry_Raw',\n",
       "       'Apple_Raw', 'Mango_Raw', 'Apple_Raw', 'Apple_Raw', 'Mango_Ripe',\n",
       "       'Banana_Raw', 'Papaya_Raw', 'Banana_Raw', 'Strawberry_Ripe',\n",
       "       'Pomengranate_Ripe', 'Coconut_Raw', 'Mango_Ripe',\n",
       "       'Pomengranate_Raw', 'Papaya_Ripe', 'Guava_Ripe', 'Strawberry_Ripe',\n",
       "       'Apple_Raw', 'Coconut_Ripe', 'Strawberry_Raw', 'Pomengranate_Raw',\n",
       "       'Apple_Raw', 'Pomengranate_Raw', 'Strawberry_Ripe', 'Apple_Raw',\n",
       "       'Apple_Raw', 'Apple_Raw', 'Pomengranate_Raw', 'Leeche_Ripe',\n",
       "       'Pomengranate_Ripe', 'Strawberry_Ripe', 'Banana_Raw', 'Orange_Raw',\n",
       "       'Papaya_Raw', 'Guava_Ripe', 'Coconut_Ripe', 'Papaya_Ripe',\n",
       "       'Papaya_Raw', 'Coconut_Ripe', 'Guava_Raw', 'Banana_Ripe',\n",
       "       'Apple_Ripe', 'Mango_Raw', 'Coconut_Raw', 'Guava_Raw',\n",
       "       'Pomengranate_Raw', 'Leeche_Ripe', 'Banana_Raw', 'Orange_Raw',\n",
       "       'Orange_Ripe', 'Banana_Raw', 'Banana_Raw', 'Mango_Ripe',\n",
       "       'Apple_Ripe', 'Guava_Raw', 'Banana_Ripe', 'Leeche_Ripe',\n",
       "       'Banana_Raw', 'Papaya_Ripe', 'Pomengranate_Raw', 'Apple_Ripe',\n",
       "       'Banana_Ripe', 'Orange_Ripe', 'Apple_Ripe', 'Leeche_Raw',\n",
       "       'Pomengranate_Ripe', 'Strawberry_Ripe', 'Coconut_Ripe',\n",
       "       'Banana_Ripe', 'Mango_Raw', 'Mango_Raw', 'Orange_Ripe',\n",
       "       'Apple_Ripe', 'Banana_Ripe', 'Apple_Raw', 'Leeche_Raw'],\n",
       "      dtype=object)"
      ]
     },
     "execution_count": 61,
     "metadata": {},
     "output_type": "execute_result"
    }
   ],
   "source": [
    "y_only"
   ]
  },
  {
   "cell_type": "code",
   "execution_count": 63,
   "id": "ffe4265d",
   "metadata": {},
   "outputs": [],
   "source": [
    "new_df = pd.DataFrame(y_only)\n",
    "new_df.to_csv(\"submission_voting_best.csv\")"
   ]
  },
  {
   "cell_type": "code",
   "execution_count": null,
   "id": "6da6f7ac",
   "metadata": {},
   "outputs": [],
   "source": []
  }
 ],
 "metadata": {
  "kernelspec": {
   "display_name": "Python 3 (ipykernel)",
   "language": "python",
   "name": "python3"
  },
  "language_info": {
   "codemirror_mode": {
    "name": "ipython",
    "version": 3
   },
   "file_extension": ".py",
   "mimetype": "text/x-python",
   "name": "python",
   "nbconvert_exporter": "python",
   "pygments_lexer": "ipython3",
   "version": "3.9.7"
  }
 },
 "nbformat": 4,
 "nbformat_minor": 5
}
