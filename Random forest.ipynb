{
 "cells": [
  {
   "cell_type": "code",
   "execution_count": 35,
   "id": "8ad14f6f",
   "metadata": {},
   "outputs": [],
   "source": [
    "import numpy as np\n",
    "import pandas as pd\n",
    "import matplotlib.pyplot as plt\n",
    "from sklearn.model_selection import train_test_split\n",
    "from sklearn.preprocessing import StandardScaler\n",
    "from sklearn.decomposition import PCA"
   ]
  },
  {
   "cell_type": "code",
   "execution_count": 36,
   "id": "af594848",
   "metadata": {},
   "outputs": [],
   "source": [
    "df = pd.read_csv('train.csv')"
   ]
  },
  {
   "cell_type": "code",
   "execution_count": 37,
   "id": "990f4847",
   "metadata": {},
   "outputs": [
    {
     "data": {
      "text/plain": [
       "(1216, 4096)"
      ]
     },
     "execution_count": 37,
     "metadata": {},
     "output_type": "execute_result"
    }
   ],
   "source": [
    "X = df.iloc[:,1:4097]\n",
    "y = df.iloc[:,4097:4098]\n",
    "X.shape\n"
   ]
  },
  {
   "cell_type": "code",
   "execution_count": 38,
   "id": "efacd7cc",
   "metadata": {},
   "outputs": [],
   "source": [
    "from sklearn.cluster import KMeans\n",
    "km = KMeans(n_clusters = 20, init = 'random', n_init = 10, max_iter = 300, tol = 1e-04, random_state = 0)\n",
    "y_km = km.fit_predict(X)"
   ]
  },
  {
   "cell_type": "code",
   "execution_count": 39,
   "id": "a5cfb588",
   "metadata": {},
   "outputs": [],
   "source": [
    "y_km.shape\n",
    "X.shape\n",
    "X = np.c_[X,y_km]"
   ]
  },
  {
   "cell_type": "code",
   "execution_count": 40,
   "id": "71422d4d",
   "metadata": {},
   "outputs": [
    {
     "name": "stderr",
     "output_type": "stream",
     "text": [
      "C:\\Python39\\lib\\site-packages\\sklearn\\preprocessing\\_label.py:115: DataConversionWarning: A column-vector y was passed when a 1d array was expected. Please change the shape of y to (n_samples, ), for example using ravel().\n",
      "  y = column_or_1d(y, warn=True)\n"
     ]
    },
    {
     "data": {
      "text/plain": [
       "array([13,  3, 10, ...,  3,  7,  7])"
      ]
     },
     "execution_count": 40,
     "metadata": {},
     "output_type": "execute_result"
    }
   ],
   "source": [
    "from sklearn.preprocessing import LabelEncoder\n",
    "lr = LabelEncoder()\n",
    "y = lr.fit_transform(y)\n",
    "y.shape\n",
    "y"
   ]
  },
  {
   "cell_type": "code",
   "execution_count": 41,
   "id": "43fb8c62",
   "metadata": {},
   "outputs": [],
   "source": [
    "X_train, X_test, y_train, y_test = train_test_split(X,y,test_size=0.2,random_state = 22,stratify=y)"
   ]
  },
  {
   "cell_type": "code",
   "execution_count": 42,
   "id": "0dd454a8",
   "metadata": {},
   "outputs": [],
   "source": [
    "sc = StandardScaler()\n",
    "X_train_new = sc.fit_transform(X_train)\n",
    "X_test_new = sc.transform(X_test)"
   ]
  },
  {
   "cell_type": "code",
   "execution_count": 46,
   "id": "4562fa19",
   "metadata": {},
   "outputs": [],
   "source": [
    "from sklearn.model_selection import GridSearchCV\n",
    "param_grid = { \n",
    "    'n_estimators': [100, 500],\n",
    "    'max_depth' : [4,6,8],\n",
    "    'criterion' :['gini', 'entropy']\n",
    "}\n",
    "from sklearn.ensemble import RandomForestClassifier"
   ]
  },
  {
   "cell_type": "code",
   "execution_count": 47,
   "id": "2745a64d",
   "metadata": {},
   "outputs": [],
   "source": [
    "clf = RandomForestClassifier(random_state=42)"
   ]
  },
  {
   "cell_type": "code",
   "execution_count": 49,
   "id": "8e7fe56a",
   "metadata": {},
   "outputs": [
    {
     "name": "stdout",
     "output_type": "stream",
     "text": [
      "Fitting 3 folds for each of 12 candidates, totalling 36 fits\n",
      "[CV 1/3] END criterion=gini, max_depth=4, n_estimators=100;, score=0.519 total time=   2.3s\n",
      "[CV 2/3] END criterion=gini, max_depth=4, n_estimators=100;, score=0.552 total time=   3.0s\n",
      "[CV 3/3] END criterion=gini, max_depth=4, n_estimators=100;, score=0.494 total time=   2.9s\n",
      "[CV 1/3] END criterion=gini, max_depth=4, n_estimators=500;, score=0.568 total time=  13.3s\n",
      "[CV 2/3] END criterion=gini, max_depth=4, n_estimators=500;, score=0.549 total time=  11.6s\n",
      "[CV 3/3] END criterion=gini, max_depth=4, n_estimators=500;, score=0.531 total time=  12.2s\n",
      "[CV 1/3] END criterion=gini, max_depth=6, n_estimators=100;, score=0.645 total time=   3.0s\n",
      "[CV 2/3] END criterion=gini, max_depth=6, n_estimators=100;, score=0.611 total time=   3.3s\n",
      "[CV 3/3] END criterion=gini, max_depth=6, n_estimators=100;, score=0.562 total time=   3.1s\n",
      "[CV 1/3] END criterion=gini, max_depth=6, n_estimators=500;, score=0.664 total time=  14.6s\n",
      "[CV 2/3] END criterion=gini, max_depth=6, n_estimators=500;, score=0.627 total time=  16.1s\n",
      "[CV 3/3] END criterion=gini, max_depth=6, n_estimators=500;, score=0.571 total time=  14.4s\n",
      "[CV 1/3] END criterion=gini, max_depth=8, n_estimators=100;, score=0.673 total time=   3.6s\n",
      "[CV 2/3] END criterion=gini, max_depth=8, n_estimators=100;, score=0.660 total time=   2.8s\n",
      "[CV 3/3] END criterion=gini, max_depth=8, n_estimators=100;, score=0.602 total time=   3.0s\n",
      "[CV 1/3] END criterion=gini, max_depth=8, n_estimators=500;, score=0.710 total time=  20.4s\n",
      "[CV 2/3] END criterion=gini, max_depth=8, n_estimators=500;, score=0.670 total time=  39.3s\n",
      "[CV 3/3] END criterion=gini, max_depth=8, n_estimators=500;, score=0.602 total time=  54.2s\n",
      "[CV 1/3] END criterion=entropy, max_depth=4, n_estimators=100;, score=0.552 total time=   6.1s\n",
      "[CV 2/3] END criterion=entropy, max_depth=4, n_estimators=100;, score=0.568 total time=   5.5s\n",
      "[CV 3/3] END criterion=entropy, max_depth=4, n_estimators=100;, score=0.525 total time=   5.5s\n",
      "[CV 1/3] END criterion=entropy, max_depth=4, n_estimators=500;, score=0.568 total time=  31.3s\n",
      "[CV 2/3] END criterion=entropy, max_depth=4, n_estimators=500;, score=0.574 total time=  27.4s\n",
      "[CV 3/3] END criterion=entropy, max_depth=4, n_estimators=500;, score=0.519 total time=  26.4s\n",
      "[CV 1/3] END criterion=entropy, max_depth=6, n_estimators=100;, score=0.676 total time=   6.9s\n",
      "[CV 2/3] END criterion=entropy, max_depth=6, n_estimators=100;, score=0.636 total time=   6.7s\n",
      "[CV 3/3] END criterion=entropy, max_depth=6, n_estimators=100;, score=0.602 total time=   6.5s\n",
      "[CV 1/3] END criterion=entropy, max_depth=6, n_estimators=500;, score=0.707 total time=  33.8s\n",
      "[CV 2/3] END criterion=entropy, max_depth=6, n_estimators=500;, score=0.676 total time=  32.6s\n",
      "[CV 3/3] END criterion=entropy, max_depth=6, n_estimators=500;, score=0.602 total time=  33.2s\n",
      "[CV 1/3] END criterion=entropy, max_depth=8, n_estimators=100;, score=0.688 total time=   8.0s\n",
      "[CV 2/3] END criterion=entropy, max_depth=8, n_estimators=100;, score=0.688 total time=   8.2s\n",
      "[CV 3/3] END criterion=entropy, max_depth=8, n_estimators=100;, score=0.614 total time=   8.0s\n",
      "[CV 1/3] END criterion=entropy, max_depth=8, n_estimators=500;, score=0.704 total time=  39.0s\n",
      "[CV 2/3] END criterion=entropy, max_depth=8, n_estimators=500;, score=0.691 total time=  41.2s\n",
      "[CV 3/3] END criterion=entropy, max_depth=8, n_estimators=500;, score=0.627 total time=  37.0s\n"
     ]
    },
    {
     "data": {
      "text/plain": [
       "GridSearchCV(cv=3, estimator=RandomForestClassifier(random_state=42),\n",
       "             param_grid={'criterion': ['gini', 'entropy'],\n",
       "                         'max_depth': [4, 6, 8], 'n_estimators': [100, 500]},\n",
       "             verbose=3)"
      ]
     },
     "execution_count": 49,
     "metadata": {},
     "output_type": "execute_result"
    }
   ],
   "source": [
    "rfc = GridSearchCV(estimator=clf, param_grid=param_grid, cv= 3,verbose=3)\n",
    "rfc.fit(X_train_new, y_train)"
   ]
  },
  {
   "cell_type": "code",
   "execution_count": 51,
   "id": "4fad7c24",
   "metadata": {},
   "outputs": [
    {
     "data": {
      "text/plain": [
       "0.6738683127572016"
      ]
     },
     "execution_count": 51,
     "metadata": {},
     "output_type": "execute_result"
    }
   ],
   "source": [
    "rfc.best_score_"
   ]
  },
  {
   "cell_type": "code",
   "execution_count": 52,
   "id": "a5db621c",
   "metadata": {},
   "outputs": [
    {
     "data": {
      "text/plain": [
       "{'criterion': 'entropy', 'max_depth': 8, 'n_estimators': 500}"
      ]
     },
     "execution_count": 52,
     "metadata": {},
     "output_type": "execute_result"
    }
   ],
   "source": [
    "rfc.best_params_"
   ]
  },
  {
   "cell_type": "code",
   "execution_count": 53,
   "id": "5091f7e4",
   "metadata": {},
   "outputs": [
    {
     "data": {
      "text/plain": [
       "RandomForestClassifier(criterion='entropy', max_depth=8, n_estimators=500,\n",
       "                       random_state=42)"
      ]
     },
     "execution_count": 53,
     "metadata": {},
     "output_type": "execute_result"
    }
   ],
   "source": [
    "rfc.best_estimator_"
   ]
  },
  {
   "cell_type": "code",
   "execution_count": 54,
   "id": "f069e862",
   "metadata": {},
   "outputs": [],
   "source": [
    "clf1 = RandomForestClassifier(criterion='entropy',max_depth= 8, n_estimators = 500, random_state= 42)"
   ]
  },
  {
   "cell_type": "code",
   "execution_count": 55,
   "id": "e00cb14f",
   "metadata": {},
   "outputs": [
    {
     "data": {
      "text/plain": [
       "1.0"
      ]
     },
     "execution_count": 55,
     "metadata": {},
     "output_type": "execute_result"
    }
   ],
   "source": [
    "clf1.fit(X_train_new,y_train)\n",
    "from sklearn.metrics import accuracy_score\n",
    "y_pred_t = clf1.predict(X_train_new)\n",
    "accuracy_score(y_train,y_pred_t)"
   ]
  },
  {
   "cell_type": "code",
   "execution_count": 56,
   "id": "07ad5c41",
   "metadata": {},
   "outputs": [
    {
     "data": {
      "text/plain": [
       "0.7336065573770492"
      ]
     },
     "execution_count": 56,
     "metadata": {},
     "output_type": "execute_result"
    }
   ],
   "source": [
    "y_pred = clf1.predict(X_test_new)\n",
    "accuracy_score(y_test,y_pred)"
   ]
  },
  {
   "cell_type": "code",
   "execution_count": 57,
   "id": "2c586226",
   "metadata": {},
   "outputs": [],
   "source": [
    "df_new = pd.read_csv('test.csv')"
   ]
  },
  {
   "cell_type": "code",
   "execution_count": 58,
   "id": "23cd7a11",
   "metadata": {},
   "outputs": [],
   "source": [
    "X_pred = df_new.iloc[:,1:4098]"
   ]
  },
  {
   "cell_type": "code",
   "execution_count": 59,
   "id": "0a5cf5c6",
   "metadata": {},
   "outputs": [],
   "source": [
    "yme = km.predict(X_pred)\n",
    "X_pred = np.c_[X_pred,yme]"
   ]
  },
  {
   "cell_type": "code",
   "execution_count": 60,
   "id": "d0a7cb4c",
   "metadata": {},
   "outputs": [],
   "source": [
    "X_pred_new = sc.transform(X_pred)"
   ]
  },
  {
   "cell_type": "code",
   "execution_count": 63,
   "id": "71c90f70",
   "metadata": {},
   "outputs": [],
   "source": [
    "y_pred_trans = clf1.predict(X_pred_new)"
   ]
  },
  {
   "cell_type": "code",
   "execution_count": 64,
   "id": "ec1ca045",
   "metadata": {},
   "outputs": [],
   "source": [
    "y_only = lr.inverse_transform(y_pred_trans)"
   ]
  },
  {
   "cell_type": "code",
   "execution_count": null,
   "id": "a5ecc09c",
   "metadata": {},
   "outputs": [],
   "source": [
    "new_df = pd.DataFrame(y_only)\n",
    "new_df.to_csv(\"submission_random.csv\")"
   ]
  },
  {
   "cell_type": "code",
   "execution_count": null,
   "id": "6d6162c4",
   "metadata": {},
   "outputs": [],
   "source": [
    "y_only"
   ]
  },
  {
   "cell_type": "code",
   "execution_count": null,
   "id": "22d3f8d7",
   "metadata": {},
   "outputs": [],
   "source": []
  }
 ],
 "metadata": {
  "kernelspec": {
   "display_name": "Python 3 (ipykernel)",
   "language": "python",
   "name": "python3"
  },
  "language_info": {
   "codemirror_mode": {
    "name": "ipython",
    "version": 3
   },
   "file_extension": ".py",
   "mimetype": "text/x-python",
   "name": "python",
   "nbconvert_exporter": "python",
   "pygments_lexer": "ipython3",
   "version": "3.9.7"
  }
 },
 "nbformat": 4,
 "nbformat_minor": 5
}
