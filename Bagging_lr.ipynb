{
 "cells": [
  {
   "cell_type": "code",
   "execution_count": 23,
   "id": "25e1aa24",
   "metadata": {},
   "outputs": [],
   "source": [
    "import numpy as np\n",
    "import pandas as pd\n",
    "import matplotlib.pyplot as plt\n",
    "from sklearn.model_selection import train_test_split\n",
    "from sklearn.preprocessing import StandardScaler\n",
    "from sklearn.decomposition import PCA"
   ]
  },
  {
   "cell_type": "code",
   "execution_count": 24,
   "id": "5555c7f8",
   "metadata": {},
   "outputs": [],
   "source": [
    "df = pd.read_csv('train.csv')"
   ]
  },
  {
   "cell_type": "code",
   "execution_count": 25,
   "id": "271fe79e",
   "metadata": {},
   "outputs": [
    {
     "data": {
      "text/plain": [
       "(1216, 4096)"
      ]
     },
     "execution_count": 25,
     "metadata": {},
     "output_type": "execute_result"
    }
   ],
   "source": [
    "X = df.iloc[:,1:4097]\n",
    "y = df.iloc[:,4097:4098]\n",
    "X.shape\n"
   ]
  },
  {
   "cell_type": "code",
   "execution_count": 26,
   "id": "322affbc",
   "metadata": {},
   "outputs": [],
   "source": [
    "from sklearn.cluster import KMeans\n",
    "km = KMeans(n_clusters = 20, init = 'random', n_init = 10, max_iter = 300, tol = 1e-04, random_state = 0)\n",
    "y_km = km.fit_predict(X)"
   ]
  },
  {
   "cell_type": "code",
   "execution_count": 27,
   "id": "5ce6883a",
   "metadata": {},
   "outputs": [],
   "source": [
    "y_km.shape\n",
    "X.shape\n",
    "X = np.c_[X,y_km]"
   ]
  },
  {
   "cell_type": "code",
   "execution_count": 28,
   "id": "72fc34af",
   "metadata": {},
   "outputs": [
    {
     "name": "stderr",
     "output_type": "stream",
     "text": [
      "C:\\Python39\\lib\\site-packages\\sklearn\\preprocessing\\_label.py:115: DataConversionWarning: A column-vector y was passed when a 1d array was expected. Please change the shape of y to (n_samples, ), for example using ravel().\n",
      "  y = column_or_1d(y, warn=True)\n"
     ]
    },
    {
     "data": {
      "text/plain": [
       "array([13,  3, 10, ...,  3,  7,  7])"
      ]
     },
     "execution_count": 28,
     "metadata": {},
     "output_type": "execute_result"
    }
   ],
   "source": [
    "from sklearn.preprocessing import LabelEncoder\n",
    "lr = LabelEncoder()\n",
    "y = lr.fit_transform(y)\n",
    "y.shape\n",
    "y"
   ]
  },
  {
   "cell_type": "code",
   "execution_count": 29,
   "id": "802968a4",
   "metadata": {},
   "outputs": [],
   "source": [
    "X_train, X_test, y_train, y_test = train_test_split(X,y,test_size=0.2,random_state = 22,stratify=y)"
   ]
  },
  {
   "cell_type": "code",
   "execution_count": 30,
   "id": "497a9b89",
   "metadata": {},
   "outputs": [],
   "source": [
    "sc = StandardScaler()\n",
    "X_train_new = sc.fit_transform(X_train)\n",
    "X_test_new = sc.transform(X_test)"
   ]
  },
  {
   "cell_type": "code",
   "execution_count": 31,
   "id": "cb7bde1b",
   "metadata": {},
   "outputs": [],
   "source": [
    "from sklearn.model_selection import GridSearchCV\n",
    "n_params = {\n",
    "    'n_estimators': [100, 500],\n",
    "    'max_samples': [0.5, 0.8, 1],\n",
    "    'max_features': [0.5, 0.8, 1]\n",
    "}"
   ]
  },
  {
   "cell_type": "code",
   "execution_count": 36,
   "id": "589d898e",
   "metadata": {},
   "outputs": [],
   "source": [
    "from sklearn.ensemble import BaggingClassifier\n",
    "from sklearn.svm import SVC\n",
    "clf = BaggingClassifier(base_estimator = SVC(kernel='linear'),random_state= 42)\n",
    "model = GridSearchCV(estimator= clf, param_grid= n_params, verbose = 3,cv=3)"
   ]
  },
  {
   "cell_type": "code",
   "execution_count": null,
   "id": "d9b8ec9f",
   "metadata": {},
   "outputs": [
    {
     "name": "stdout",
     "output_type": "stream",
     "text": [
      "Fitting 3 folds for each of 18 candidates, totalling 54 fits\n",
      "[CV 1/3] END max_features=0.5, max_samples=0.5, n_estimators=100;, score=0.741 total time=  32.4s\n",
      "[CV 2/3] END max_features=0.5, max_samples=0.5, n_estimators=100;, score=0.722 total time=  31.4s\n",
      "[CV 3/3] END max_features=0.5, max_samples=0.5, n_estimators=100;, score=0.654 total time=  31.4s\n",
      "[CV 1/3] END max_features=0.5, max_samples=0.5, n_estimators=500;, score=0.744 total time= 3.9min\n",
      "[CV 2/3] END max_features=0.5, max_samples=0.5, n_estimators=500;, score=0.722 total time= 4.5min\n",
      "[CV 3/3] END max_features=0.5, max_samples=0.5, n_estimators=500;, score=0.654 total time= 3.1min\n",
      "[CV 1/3] END max_features=0.5, max_samples=0.8, n_estimators=100;, score=0.747 total time=  46.6s\n",
      "[CV 2/3] END max_features=0.5, max_samples=0.8, n_estimators=100;, score=0.725 total time=  44.7s\n",
      "[CV 3/3] END max_features=0.5, max_samples=0.8, n_estimators=100;, score=0.673 total time=  44.2s\n",
      "[CV 1/3] END max_features=0.5, max_samples=0.8, n_estimators=500;, score=0.753 total time= 9.0min\n",
      "[CV 2/3] END max_features=0.5, max_samples=0.8, n_estimators=500;, score=0.735 total time= 9.3min\n",
      "[CV 3/3] END max_features=0.5, max_samples=0.8, n_estimators=500;, score=0.676 total time=10.1min\n",
      "[CV 1/3] END max_features=0.5, max_samples=1, n_estimators=100;, score=nan total time=   6.6s\n",
      "[CV 2/3] END max_features=0.5, max_samples=1, n_estimators=100;, score=nan total time=   0.0s\n",
      "[CV 3/3] END max_features=0.5, max_samples=1, n_estimators=100;, score=nan total time=   0.0s\n",
      "[CV 1/3] END max_features=0.5, max_samples=1, n_estimators=500;, score=nan total time=   0.1s\n",
      "[CV 2/3] END max_features=0.5, max_samples=1, n_estimators=500;, score=nan total time=   0.0s\n",
      "[CV 3/3] END max_features=0.5, max_samples=1, n_estimators=500;, score=nan total time=   0.0s\n",
      "[CV 1/3] END max_features=0.8, max_samples=0.5, n_estimators=100;, score=0.753 total time=  58.1s\n",
      "[CV 2/3] END max_features=0.8, max_samples=0.5, n_estimators=100;, score=0.728 total time=  56.7s\n",
      "[CV 3/3] END max_features=0.8, max_samples=0.5, n_estimators=100;, score=0.651 total time=  55.7s\n",
      "[CV 1/3] END max_features=0.8, max_samples=0.5, n_estimators=500;, score=0.750 total time=12.2min\n"
     ]
    }
   ],
   "source": [
    "model.fit(X_train_new,y_train)"
   ]
  },
  {
   "cell_type": "code",
   "execution_count": null,
   "id": "0503a1fa",
   "metadata": {},
   "outputs": [],
   "source": [
    "model.best_score_"
   ]
  },
  {
   "cell_type": "code",
   "execution_count": null,
   "id": "735cb57f",
   "metadata": {},
   "outputs": [],
   "source": [
    "model.best_params_"
   ]
  },
  {
   "cell_type": "code",
   "execution_count": null,
   "id": "f41947ee",
   "metadata": {},
   "outputs": [],
   "source": [
    "model.best_estimator_"
   ]
  },
  {
   "cell_type": "code",
   "execution_count": null,
   "id": "f077543c",
   "metadata": {},
   "outputs": [],
   "source": [
    "clf1 = LogisiticRegression()\n",
    "clf1.fit(X_train_new,y_train)\n",
    "from sklearn.metrics import accuracy_score\n",
    "y_pred_t = clf1.predict(X_train_new)\n",
    "accuracy_score(y_train,y_pred_t)"
   ]
  },
  {
   "cell_type": "code",
   "execution_count": null,
   "id": "574850f4",
   "metadata": {},
   "outputs": [],
   "source": [
    "y_pred = clf1.predict(X_test_new)\n",
    "accuracy_score(y_test,y_pred)"
   ]
  },
  {
   "cell_type": "code",
   "execution_count": null,
   "id": "0a94972b",
   "metadata": {},
   "outputs": [],
   "source": [
    "df_new = pd.read_csv('test.csv')"
   ]
  },
  {
   "cell_type": "code",
   "execution_count": null,
   "id": "7d7f5152",
   "metadata": {},
   "outputs": [],
   "source": [
    "X_pred = df_new.iloc[:,1:4098]"
   ]
  },
  {
   "cell_type": "code",
   "execution_count": null,
   "id": "f99b8f11",
   "metadata": {},
   "outputs": [],
   "source": [
    "yme = km.predict(X_pred)\n",
    "X_pred = np.c_[X_pred,yme]"
   ]
  },
  {
   "cell_type": "code",
   "execution_count": null,
   "id": "c4e079b1",
   "metadata": {},
   "outputs": [],
   "source": [
    "X_pred_new = sc.transform(X_pred)"
   ]
  },
  {
   "cell_type": "code",
   "execution_count": null,
   "id": "fbec0c6c",
   "metadata": {},
   "outputs": [],
   "source": [
    "y_pred_trans = clf1.predict(X_pred_new)"
   ]
  },
  {
   "cell_type": "code",
   "execution_count": null,
   "id": "471cec05",
   "metadata": {},
   "outputs": [],
   "source": [
    "y_only = lr.inverse_transform(y_pred_trans)"
   ]
  },
  {
   "cell_type": "code",
   "execution_count": null,
   "id": "d82af07f",
   "metadata": {},
   "outputs": [],
   "source": [
    "new_df = pd.DataFrame(y_only)\n",
    "new_df.to_csv(\"submission_random.csv\")"
   ]
  },
  {
   "cell_type": "code",
   "execution_count": null,
   "id": "474e357b",
   "metadata": {},
   "outputs": [],
   "source": []
  },
  {
   "cell_type": "code",
   "execution_count": null,
   "id": "7fe590e9",
   "metadata": {},
   "outputs": [],
   "source": []
  },
  {
   "cell_type": "code",
   "execution_count": null,
   "id": "5f39d003",
   "metadata": {},
   "outputs": [],
   "source": []
  }
 ],
 "metadata": {
  "kernelspec": {
   "display_name": "Python 3 (ipykernel)",
   "language": "python",
   "name": "python3"
  },
  "language_info": {
   "codemirror_mode": {
    "name": "ipython",
    "version": 3
   },
   "file_extension": ".py",
   "mimetype": "text/x-python",
   "name": "python",
   "nbconvert_exporter": "python",
   "pygments_lexer": "ipython3",
   "version": "3.9.7"
  }
 },
 "nbformat": 4,
 "nbformat_minor": 5
}
