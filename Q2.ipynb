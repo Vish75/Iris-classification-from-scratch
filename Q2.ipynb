{
 "cells": [
  {
   "cell_type": "code",
   "execution_count": 1,
   "id": "ca29ec55",
   "metadata": {},
   "outputs": [],
   "source": [
    "import numpy as np\n",
    "import math\n",
    "import pandas as pd\n",
    "from sklearn import datasets\n",
    "from sklearn.metrics import log_loss\n",
    "import statistics\n",
    "from pprint import pprint"
   ]
  },
  {
   "cell_type": "code",
   "execution_count": 3,
   "id": "6ef428ea",
   "metadata": {},
   "outputs": [],
   "source": [
    "X = datasets.load_iris().data\n",
    "y = datasets.load_iris().target\n",
    "from sklearn.model_selection import train_test_split\n",
    "iris = datasets.load_iris()\n",
    "X_train, X_test, y_train, y_test = train_test_split(X,y,test_size=0.2,random_state=22)"
   ]
  },
  {
   "cell_type": "code",
   "execution_count": 10,
   "id": "819c9c2d",
   "metadata": {},
   "outputs": [],
   "source": [
    "def entropy_of_class(class1, number_of_samples):\n",
    "    return -(class1*1.0/number_of_samples)*math.log(class1*1.0/number_of_samples, 2)\n",
    "\n",
    "def calc_entropy(class1, class2):\n",
    "    \n",
    "    if class1== 0 or class2 == 0:  \n",
    "        return 0\n",
    "    return entropy_of_class(class1, class1+class2) + entropy_of_class(class2, class1+class2)\n",
    "\n",
    "\n",
    "def entropy_of_subset(subset): \n",
    "    \n",
    "    s = 0\n",
    "    num_sample = len(subset)\n",
    "    classes = set(subset)\n",
    "    for cla in classes:   \n",
    "        n_c = sum(subset==cla)\n",
    "        e = n_c*1.0/num_sample * calc_entropy(sum(subset==cla), sum(subset!=cla)) \n",
    "        s += e\n",
    "    return s, num_sample\n",
    "\n",
    "\n",
    "def get_entropy(y_predict, y_real):\n",
    "    \n",
    "    if len(y_predict) != len(y_real):\n",
    "        print('They have to be the same length')\n",
    "        return None\n",
    "    n = len(y_real)\n",
    "    s_true, n_true = entropy_of_subset(y_real[y_predict]) \n",
    "    s_false, n_false = entropy_of_subset(y_real[~y_predict]) \n",
    "    s = n_true*1.0/n * s_true + n_false*1.0/n * s_false \n",
    "    return s"
   ]
  },
  {
   "cell_type": "code",
   "execution_count": 11,
   "id": "71e7caef",
   "metadata": {},
   "outputs": [],
   "source": [
    "class DecisionTreeClassifier(object):\n",
    "    def __init__(self, max_depth):\n",
    "        self.depth = 0\n",
    "        self.max_depth = max_depth\n",
    "    \n",
    "    def fit(self, x, y, par_node={}, depth=0):\n",
    "        if par_node is None: \n",
    "            return None\n",
    "        elif len(y) == 0:\n",
    "            return None\n",
    "        elif self.all_same(y):\n",
    "            return {'val':y[0]}\n",
    "        elif depth >= self.max_depth:\n",
    "            return None\n",
    "        else: \n",
    "            col, cutoff, entropy = self.find_best_split_of_all(x, y)    \n",
    "            y_left = y[x[:, col] < cutoff]\n",
    "            y_right = y[x[:, col] >= cutoff]\n",
    "            par_node = {'col': iris.feature_names[col], 'index_col':col,\n",
    "                        'cutoff':cutoff,\n",
    "                       'val': np.round(np.mean(y))}\n",
    "            par_node['left'] = self.fit(x[x[:, col] < cutoff], y_left, {}, depth+1)\n",
    "            par_node['right'] = self.fit(x[x[:, col] >= cutoff], y_right, {}, depth+1)\n",
    "            self.depth += 1 \n",
    "            self.trees = par_node\n",
    "            return par_node\n",
    "    \n",
    "    def find_best_split_of_all(self, x, y):\n",
    "        col = None\n",
    "        min_entropy = 1\n",
    "        cutoff = None\n",
    "        for i, c in enumerate(x.T):\n",
    "            entropy, cur_cutoff = self.find_best_split(c, y)\n",
    "            if entropy == 0:    \n",
    "                return i, cur_cutoff, entropy\n",
    "            elif entropy <= min_entropy:\n",
    "                min_entropy = entropy\n",
    "                col = i\n",
    "                cutoff = cur_cutoff\n",
    "        return col, cutoff, min_entropy\n",
    "    \n",
    "    def find_best_split(self, col, y):\n",
    "        min_entropy = 10\n",
    "        n = len(y)\n",
    "        for value in set(col):\n",
    "            y_predict = col < value\n",
    "            my_entropy = get_entropy(y_predict, y)\n",
    "            if my_entropy <= min_entropy:\n",
    "                min_entropy = my_entropy\n",
    "                cutoff = value\n",
    "        return min_entropy, cutoff\n",
    "    \n",
    "    def all_same(self, items):\n",
    "        return all(x == items[0] for x in items)"
   ]
  },
  {
   "cell_type": "code",
   "execution_count": 12,
   "id": "3c5bb2cb",
   "metadata": {},
   "outputs": [
    {
     "name": "stdout",
     "output_type": "stream",
     "text": [
      "{'col': 'petal width (cm)',\n",
      " 'cutoff': 1.0,\n",
      " 'index_col': 3,\n",
      " 'left': {'val': 0},\n",
      " 'right': {'col': 'petal width (cm)',\n",
      "           'cutoff': 1.8,\n",
      "           'index_col': 3,\n",
      "           'left': {'col': 'petal length (cm)',\n",
      "                    'cutoff': 5.1,\n",
      "                    'index_col': 2,\n",
      "                    'left': None,\n",
      "                    'right': None,\n",
      "                    'val': 1.0},\n",
      "           'right': {'col': 'petal length (cm)',\n",
      "                     'cutoff': 4.9,\n",
      "                     'index_col': 2,\n",
      "                     'left': {'val': 1},\n",
      "                     'right': {'val': 2},\n",
      "                     'val': 2.0},\n",
      "           'val': 1.0},\n",
      " 'val': 1.0}\n"
     ]
    }
   ],
   "source": [
    "clf = DecisionTreeClassifier(max_depth = 3)\n",
    "m = clf.fit(X_train,y_train)\n",
    "pprint(m)\n"
   ]
  },
  {
   "cell_type": "code",
   "execution_count": null,
   "id": "ac43b4a3",
   "metadata": {},
   "outputs": [],
   "source": []
  }
 ],
 "metadata": {
  "kernelspec": {
   "display_name": "Python 3 (ipykernel)",
   "language": "python",
   "name": "python3"
  },
  "language_info": {
   "codemirror_mode": {
    "name": "ipython",
    "version": 3
   },
   "file_extension": ".py",
   "mimetype": "text/x-python",
   "name": "python",
   "nbconvert_exporter": "python",
   "pygments_lexer": "ipython3",
   "version": "3.9.7"
  }
 },
 "nbformat": 4,
 "nbformat_minor": 5
}
