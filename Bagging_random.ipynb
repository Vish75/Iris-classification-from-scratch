{
 "cells": [
  {
   "cell_type": "code",
   "execution_count": null,
   "id": "98e9ccd0",
   "metadata": {},
   "outputs": [],
   "source": [
    "import numpy as np\n",
    "import pandas as pd\n",
    "import matplotlib.pyplot as plt\n",
    "from sklearn.model_selection import train_test_split\n",
    "from sklearn.preprocessing import StandardScaler\n",
    "from sklearn.decomposition import PCA\n",
    "\n",
    "df = pd.read_csv('train.csv')\n",
    "\n",
    "X = df.iloc[:,1:4097]\n",
    "y = df.iloc[:,4097:4098]\n",
    "X.shape\n",
    "\n",
    "\n",
    "from sklearn.cluster import KMeans\n",
    "km = KMeans(n_clusters = 20, init = 'random', n_init = 10, max_iter = 300, tol = 1e-04, random_state = 0)\n",
    "y_km = km.fit_predict(X)\n",
    "\n",
    "y_km.shape\n",
    "X.shape\n",
    "X = np.c_[X,y_km]\n",
    "\n",
    "from sklearn.preprocessing import LabelEncoder\n",
    "lr = LabelEncoder()\n",
    "y = lr.fit_transform(y)\n",
    "y.shape\n",
    "y\n",
    "\n",
    "X_train, X_test, y_train, y_test = train_test_split(X,y,test_size=0.2,random_state = 22,stratify=y)\n",
    "\n",
    "sc = StandardScaler()\n",
    "X_train_new = sc.fit_transform(X_train)\n",
    "X_test_new = sc.transform(X_test)\n",
    "\n",
    "from sklearn.model_selection import GridSearchCV\n",
    "n_params = {\n",
    "    'n_estimators': [100, 500],\n",
    "    'max_samples': [ 0.5, 0.8, 1],\n",
    "    'max_features': [0.5, 0.8, 1]\n",
    "}\n",
    "\n",
    "from sklearn.ensemble import BaggingClassifier\n",
    "from sklearn.ensemble import RandomForestClassifier\n",
    "clf = BaggingClassifier(base_estimator = RandomForestClassifier(random_state=42),random_state= 42)\n",
    "model = GridSearchCV(estimator= clf, param_grid= n_params, verbose = 3)\n",
    "\n",
    "model.fit(X_train_new,y_train)"
   ]
  },
  {
   "cell_type": "code",
   "execution_count": null,
   "id": "c7b3738f",
   "metadata": {},
   "outputs": [],
   "source": []
  }
 ],
 "metadata": {
  "kernelspec": {
   "display_name": "Python 3 (ipykernel)",
   "language": "python",
   "name": "python3"
  }
 },
 "nbformat": 4,
 "nbformat_minor": 5
}
